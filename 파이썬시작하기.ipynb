{
  "nbformat": 4,
  "nbformat_minor": 0,
  "metadata": {
    "colab": {
      "provenance": [],
      "toc_visible": true,
      "authorship_tag": "ABX9TyNl392vJ3ntGUnnJx3ckNDT",
      "include_colab_link": true
    },
    "kernelspec": {
      "name": "python3",
      "display_name": "Python 3"
    },
    "language_info": {
      "name": "python"
    }
  },
  "cells": [
    {
      "cell_type": "markdown",
      "metadata": {
        "id": "view-in-github",
        "colab_type": "text"
      },
      "source": [
        "<a href=\"https://colab.research.google.com/github/minjun0607/Python/blob/main/%ED%8C%8C%EC%9D%B4%EC%8D%AC%EC%8B%9C%EC%9E%91%ED%95%98%EA%B8%B0.ipynb\" target=\"_parent\"><img src=\"https://colab.research.google.com/assets/colab-badge.svg\" alt=\"Open In Colab\"/></a>"
      ]
    },
    {
      "cell_type": "markdown",
      "source": [
        "#**1. 파이썬을 하기 전에 읽는 아주 간단한 설명**"
      ],
      "metadata": {
        "id": "5dFXeNPrlM9w"
      }
    },
    {
      "cell_type": "markdown",
      "source": [
        "- 프로그래밍 : 프로그램을 만드는 것\n",
        "- 프로그램 : 미리 작성된 것(국어 사전 : 진행 계획 순서)\n",
        "- 컴퓨터 프로그램 : 컴퓨터가 무엇을 해야 할지 미리 작성한 진행 계획\n"
      ],
      "metadata": {
        "id": "gg56ezgIlnCB"
      }
    },
    {
      "cell_type": "code",
      "source": [
        "!python --version"
      ],
      "metadata": {
        "id": "PHuyyBvXlqBg",
        "outputId": "033d2c57-c578-4e4a-8ee8-df787f783bfc",
        "colab": {
          "base_uri": "https://localhost:8080/"
        }
      },
      "execution_count": null,
      "outputs": [
        {
          "output_type": "stream",
          "name": "stdout",
          "text": [
            "Python 3.10.11\n"
          ]
        }
      ]
    },
    {
      "cell_type": "code",
      "source": [
        "!cat /etc/issue.net"
      ],
      "metadata": {
        "id": "x6Kc8Wa9nz8M",
        "colab": {
          "base_uri": "https://localhost:8080/"
        },
        "outputId": "5c23ce3c-2857-4560-fcf8-a5b073de899a"
      },
      "execution_count": null,
      "outputs": [
        {
          "output_type": "stream",
          "name": "stdout",
          "text": [
            "Ubuntu 20.04.5 LTS\n"
          ]
        }
      ]
    },
    {
      "cell_type": "markdown",
      "source": [
        "#**2. 자주 나오는 파이썬 용어들**"
      ],
      "metadata": {
        "id": "cKBSz5Cnn9sy"
      }
    },
    {
      "cell_type": "markdown",
      "source": [
        "문장 : 실핼할 수 있는 코드의 최소 단위\n",
        "프로그램 : 문장들의 모음"
      ],
      "metadata": {
        "id": "7owEOGT1oWap"
      }
    },
    {
      "cell_type": "code",
      "source": [
        "#실행되는 모든 한 줄 코드는 문장입니다.\n",
        "print(\"Rython Programming\")   #문장\n",
        "10+20                          #문장장"
      ],
      "metadata": {
        "id": "rEcTOzm6pVPZ"
      },
      "execution_count": null,
      "outputs": []
    },
    {
      "cell_type": "markdown",
      "source": [
        "- 표현식 : 어떠한 값을 만들어 내는 간단한 코드"
      ],
      "metadata": {
        "id": "P59nR51UpMXU"
      }
    },
    {
      "cell_type": "markdown",
      "source": [
        "273\n",
        "\n",
        "10+20+30+40\n",
        "\n",
        "\"Python Programming\"\n",
        "\n",
        "+, -는 표현식 일까?\n",
        "\n",
        "+, -는 그것 자체만으로 어떠한 값도 만들어 낼 수 없기 때문에 표현식이 아니다"
      ],
      "metadata": {
        "id": "pvqdG2MipkLI"
      }
    },
    {
      "cell_type": "markdown",
      "source": [
        "### 1. 키워드"
      ],
      "metadata": {
        "id": "ZuJ6i3fRs3SW"
      }
    },
    {
      "cell_type": "markdown",
      "source": [
        "- 키워드 : 특별한 의미가 부여된 단어로 파이썬이 만들어질 때 이미 사용하겠다고 예약해 놓은 것"
      ],
      "metadata": {
        "id": "a_8IqZTjqnEL"
      }
    },
    {
      "cell_type": "code",
      "source": [
        "#키워드 확인하기 위한 코드\n",
        "import keyword\n",
        "print(keyword.kwlist)"
      ],
      "metadata": {
        "id": "mSWXpumtrKCB"
      },
      "execution_count": null,
      "outputs": []
    },
    {
      "cell_type": "markdown",
      "source": [
        "### 2. 식별자"
      ],
      "metadata": {
        "id": "DQxue3wXrga0"
      }
    },
    {
      "cell_type": "markdown",
      "source": [
        "- 식별자 : 프로그래밍 언어에서 이름을 붙일 때 사용하는 단어(주로 변수, 함수, 이름 등에 이용)\n",
        "\n",
        "**식별자 규칙**\n",
        "* 키워드를 사용하면 안됨\n",
        "* 특수 문자는 언더 바(_)만 허용\n",
        "* 숫자로 시작하면 안됨\n",
        "* 공백을 포함할 수 없음음"
      ],
      "metadata": {
        "id": "pNve_I0psXto"
      }
    },
    {
      "cell_type": "markdown",
      "source": [
        "스네이크 케이스 : 단어 사이에 언더바(_) 기호를 붙여 만든 식별자\n",
        "\n",
        "캐멀 케이스 : 단어들의 첫 글자를 대문자로 만든 식별자"
      ],
      "metadata": {
        "id": "k59O5VM7sl3g"
      }
    },
    {
      "cell_type": "markdown",
      "source": [
        "**식별자 구분**\n",
        "- 캐멀 케이스(대문자로 시작) -> 클래스\n",
        "- 스네이크 케이스(소문자로 시작) \n",
        "1. 뒤에 괄호가 있다 -> 함수\n",
        "2. 뒤에 괄호가 없다 -> 변수"
      ],
      "metadata": {
        "id": "8ct0DWIFtVBb"
      }
    },
    {
      "cell_type": "markdown",
      "source": [
        "### 3. 주석"
      ],
      "metadata": {
        "id": "ywvTzNzxxnVB"
      }
    },
    {
      "cell_type": "markdown",
      "source": [
        "주석 : 프로그램의 진행에 전혀 영향을 주지 않는 코드로, 프로그램을 설명하기 위해 사용함 (주석으로 처리하고자 하는 부분 앞에 #기호를 붙여 주석처리)"
      ],
      "metadata": {
        "id": "JSXbJjiTxrAC"
      }
    },
    {
      "cell_type": "code",
      "source": [
        "#간단히 출력하는 예입니다.\n",
        "print(\"Hello! Python Programming\")  #문자열을 출력합니다."
      ],
      "metadata": {
        "colab": {
          "base_uri": "https://localhost:8080/"
        },
        "id": "I6pimmz_y1Jp",
        "outputId": "ce306f15-495a-4741-fa6e-da0f92b998ec"
      },
      "execution_count": null,
      "outputs": [
        {
          "output_type": "stream",
          "name": "stdout",
          "text": [
            "Hello! Python Programming\n"
          ]
        }
      ]
    },
    {
      "cell_type": "markdown",
      "source": [
        "### 4. 연산자와 자료"
      ],
      "metadata": {
        "id": "YBRgjNp4zTjD"
      }
    },
    {
      "cell_type": "markdown",
      "source": [
        "연산자 : 값과 값 사이에 무언가 기능을 적용할 때 사용하는 것 (사칙연산)\n",
        "\n",
        "피연산자 : 연산을 하는 요소 (값) = 자료"
      ],
      "metadata": {
        "id": "z15E0ofUzyG1"
      }
    },
    {
      "cell_type": "markdown",
      "source": [
        "### 5. 출력"
      ],
      "metadata": {
        "id": "AXoWSB_O0awb"
      }
    },
    {
      "cell_type": "markdown",
      "source": [
        "출력 : 현제 무엇을 하는지 알 수 있도록 메시지를 출력하는 기본 방법 (print())"
      ],
      "metadata": {
        "id": "KX6vLizo1QHx"
      }
    },
    {
      "cell_type": "code",
      "source": [
        "#하나만 출력하기기\n",
        "print(\"Hello Python Programmming!\")\n",
        "print(52)\n",
        "print(273)"
      ],
      "metadata": {
        "colab": {
          "base_uri": "https://localhost:8080/"
        },
        "id": "_ynoXjtm013s",
        "outputId": "c9fa0749-c76a-43be-8356-8833dc9d7219"
      },
      "execution_count": null,
      "outputs": [
        {
          "output_type": "stream",
          "name": "stdout",
          "text": [
            "Hello Python Programmming!\n",
            "52\n",
            "273\n"
          ]
        }
      ]
    },
    {
      "cell_type": "code",
      "source": [
        "#여러개 출력하기기\n",
        "print(52,273,\"Hello!\")\n",
        "print(\"안녕하세요\", \"저의\", \"이름은\", \"조민준입니다.!\")"
      ],
      "metadata": {
        "colab": {
          "base_uri": "https://localhost:8080/"
        },
        "id": "NasLUKno1L-u",
        "outputId": "125c8536-3c59-4c92-9a47-2e29fa312eff"
      },
      "execution_count": null,
      "outputs": [
        {
          "output_type": "stream",
          "name": "stdout",
          "text": [
            "52 273 Hello!\n",
            "안녕하세요 저의 이름은 조민준입니다.!\n"
          ]
        }
      ]
    },
    {
      "cell_type": "markdown",
      "source": [
        "- 줄바꿈 하기 : print()함수 괄호 안에 아무것도 입력하지 않으면 빈 줄이 출력되어 줄바꿈이 가능하다."
      ],
      "metadata": {
        "id": "G-FQnJ1C2HGe"
      }
    },
    {
      "cell_type": "code",
      "source": [
        "print()  #빈줄을 출력한다."
      ],
      "metadata": {
        "id": "QES6iRZq2bHL"
      },
      "execution_count": null,
      "outputs": []
    },
    {
      "cell_type": "markdown",
      "source": [
        "# **직접해보는 손코딩**"
      ],
      "metadata": {
        "id": "jH-3gBzM2cnu"
      }
    },
    {
      "cell_type": "code",
      "source": [
        "#하나만 출력합니다.\n",
        "print(\"# 하나만 출력합니다.\")\n",
        "print(\"Hello Python Programming\")\n",
        "print()\n",
        "\n",
        "#여러 개를 출력합니다.\n",
        "print(\"# 여러 개를 출력 합니다.\")\n",
        "print(10, 20, 30, 40, 50)\n",
        "print(\"안녕하세요\", \"저의\", \"이름은\", \"조민준입니다.\")\n",
        "print()\n",
        "\n",
        "#아무것도 입력하지 않으면 단순하게 줄바꿈합니다.\n",
        "print(\"# 아무것도 출력하지 않습니다.\")\n",
        "print(\"---확인전용선---\")\n",
        "print()\n",
        "print()\n",
        "print(\"---확인전용선---\")"
      ],
      "metadata": {
        "colab": {
          "base_uri": "https://localhost:8080/"
        },
        "id": "rGIj7rCe29Aa",
        "outputId": "d65cfccf-5357-4721-bfbe-ccc181f43922"
      },
      "execution_count": null,
      "outputs": [
        {
          "output_type": "stream",
          "name": "stdout",
          "text": [
            "# 하나만 출력합니다.\n",
            "Hello Python Programming\n",
            "\n",
            "# 여러 개를 출력 합니다.\n",
            "10 20 30 40 50\n",
            "안녕하세요 저의 이름은 조민준입니다.\n",
            "\n",
            "# 아무것도 출력하지 않습니다.\n",
            "---확인전용선---\n",
            "\n",
            "---확인전용선---\n"
          ]
        }
      ]
    }
  ]
}