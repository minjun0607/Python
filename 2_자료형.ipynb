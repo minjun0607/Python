{
  "nbformat": 4,
  "nbformat_minor": 0,
  "metadata": {
    "colab": {
      "provenance": [],
      "toc_visible": true,
      "authorship_tag": "ABX9TyNUNKCY8LC2Fty8iU8fpnd0",
      "include_colab_link": true
    },
    "kernelspec": {
      "name": "python3",
      "display_name": "Python 3"
    },
    "language_info": {
      "name": "python"
    }
  },
  "cells": [
    {
      "cell_type": "markdown",
      "metadata": {
        "id": "view-in-github",
        "colab_type": "text"
      },
      "source": [
        "<a href=\"https://colab.research.google.com/github/minjun0607/Python/blob/main/2_%EC%9E%90%EB%A3%8C%ED%98%95.ipynb\" target=\"_parent\"><img src=\"https://colab.research.google.com/assets/colab-badge.svg\" alt=\"Open In Colab\"/></a>"
      ]
    },
    {
      "cell_type": "markdown",
      "source": [
        "#**1. 자료형과 문자열**"
      ],
      "metadata": {
        "id": "345g6ZDD7SBu"
      }
    },
    {
      "cell_type": "markdown",
      "source": [
        "자료 : 프로그램이 처리할 수 있는 모든 것\n",
        "\n",
        "- 카메라로 사진을 찍으면 사진이 **자료**이고, 이를 카메라에 저장하는 것이 **처리**이다.\n",
        "\n",
        "이러한 것처럼 우리가 일상에서 만나는 모든 것들은 자료가 될 수 있고, 프로그램은 이러한 자료를 처리하기 위한 모든 행위라고 생각할 수 있다."
      ],
      "metadata": {
        "id": "z9sQSp1YAnni"
      }
    },
    {
      "cell_type": "markdown",
      "source": [
        "### 자료형과 기본 자료형"
      ],
      "metadata": {
        "id": "egqIm6i2ZXj9"
      }
    },
    {
      "cell_type": "markdown",
      "source": [
        "자료형 : 개발자들이 쉽게 사용할 수 있도록 기능과 역할에 따라 구분한 자료의 종류\n",
        "\n",
        "기본적인 자료형은 **문자열, 숫자, 불**이 있다.\n",
        "- 문자열 : 메일 제목, 메시지 내용 등 (예: \"안녕하세요\", \"Hello World\")\n",
        "- 숫자 : 물건의 가격, 학생의 성적 등 (예: 52, 273, 103.32)\n",
        "- 불 : 친구의 로그인 상태 등 (예: True, False)"
      ],
      "metadata": {
        "id": "Kei4F-4rZ-GS"
      }
    },
    {
      "cell_type": "markdown",
      "source": [
        "**자료형 확인하기**\n",
        "\n",
        "파이썬에서 자료의 형식을 확인할 때는 type()함수를 사용한다.\n",
        "\n",
        "함수의 괄호 내부에 자료를 넣으면 그 자료가 어떤 자료형을 가지고 있는지 확인할 수 있다."
      ],
      "metadata": {
        "id": "dzKcSNCnayFH"
      }
    },
    {
      "cell_type": "code",
      "source": [
        "#예제\n",
        "print(type(\"안녕하세요\"))\n",
        "print(type(273))"
      ],
      "metadata": {
        "id": "DgBvC_zBb5_N",
        "colab": {
          "base_uri": "https://localhost:8080/"
        },
        "outputId": "f7c6811a-ef13-4703-9552-94b55d9f6d29"
      },
      "execution_count": null,
      "outputs": [
        {
          "output_type": "stream",
          "name": "stdout",
          "text": [
            "<class 'str'>\n",
            "<class 'int'>\n"
          ]
        }
      ]
    },
    {
      "cell_type": "markdown",
      "source": [
        "str은 string을 짧게 표현한 것으로 문자열을 의미한다.\n",
        "\n",
        "int는 integer을 짧게 표현한 것으로 정수를 의미한다."
      ],
      "metadata": {
        "id": "s-4i4OmPcxq9"
      }
    },
    {
      "cell_type": "markdown",
      "source": [
        "### 문자열 만들기"
      ],
      "metadata": {
        "id": "Ii8CvdJvc9-G"
      }
    },
    {
      "cell_type": "markdown",
      "source": [
        "print()함수를 배우면서 출력한 \"Hello\"같은 글자들이 이처럼 나열된 것을 문자열이라 부른다.\n",
        "\n",
        "문자열은 영어로 (스트링)string이라고 부른다."
      ],
      "metadata": {
        "id": "sf9XLhFcdbQ-"
      }
    },
    {
      "cell_type": "markdown",
      "source": [
        "- 큰따옴표로 문자열 만들기\n",
        "\n",
        "print()함수를 쓰기"
      ],
      "metadata": {
        "id": "kAz_H0H2d35Z"
      }
    },
    {
      "cell_type": "code",
      "source": [
        "print(\"안녕하세요\")"
      ],
      "metadata": {
        "colab": {
          "base_uri": "https://localhost:8080/"
        },
        "id": "XgMT-03feDp1",
        "outputId": "463c2b98-1639-49d2-9bc1-43407fd68d11"
      },
      "execution_count": null,
      "outputs": [
        {
          "output_type": "stream",
          "name": "stdout",
          "text": [
            "안녕하세요\n"
          ]
        }
      ]
    },
    {
      "cell_type": "markdown",
      "source": [
        "- 작은 따옴표로 문자열 만들기\n",
        "\n",
        "큰따옴표를 작은따옴표로 바꾸기"
      ],
      "metadata": {
        "id": "3EgTZIAjeGR6"
      }
    },
    {
      "cell_type": "code",
      "source": [
        "print('안녕하세요')"
      ],
      "metadata": {
        "colab": {
          "base_uri": "https://localhost:8080/"
        },
        "id": "vCME2NIoeNy0",
        "outputId": "86b3d18d-b80c-4df7-ff3c-9e74133481ca"
      },
      "execution_count": null,
      "outputs": [
        {
          "output_type": "stream",
          "name": "stdout",
          "text": [
            "안녕하세요\n"
          ]
        }
      ]
    },
    {
      "cell_type": "markdown",
      "source": [
        "- 문자열 내부에 따옴표 넣기"
      ],
      "metadata": {
        "id": "rONZuxSTedqc"
      }
    },
    {
      "cell_type": "code",
      "source": [
        "print(\"\"안녕하세요\"라고 말했습니다.\") #오류발생"
      ],
      "metadata": {
        "id": "0g9BKrXAepuG"
      },
      "execution_count": null,
      "outputs": []
    },
    {
      "cell_type": "code",
      "source": [
        "print('\"안녕하세요\"라고 말했습니다.')  #큰따옴표를 출력하기 위해 작은따옴표 사용"
      ],
      "metadata": {
        "colab": {
          "base_uri": "https://localhost:8080/"
        },
        "id": "hqoCZR7Ne1dk",
        "outputId": "49af1fae-28c3-439f-cb71-dafc0d73294a"
      },
      "execution_count": null,
      "outputs": [
        {
          "output_type": "stream",
          "name": "stdout",
          "text": [
            "\"안녕하세요\"라고 말했습니다.\n"
          ]
        }
      ]
    },
    {
      "cell_type": "code",
      "source": [
        "print(\"'안녕하세요'라고 말했습니다.\")  #작은따옴표를 출려하기 위해 큰따옴표 사용"
      ],
      "metadata": {
        "colab": {
          "base_uri": "https://localhost:8080/"
        },
        "id": "TLKueh1IfCQA",
        "outputId": "623fd19c-b347-4fd5-f7c1-b30f3a791045"
      },
      "execution_count": null,
      "outputs": [
        {
          "output_type": "stream",
          "name": "stdout",
          "text": [
            "'안녕하세요'라고 말했습니다.\n"
          ]
        }
      ]
    },
    {
      "cell_type": "markdown",
      "source": [
        "- 이스케이프 문자를 사용해 문자열 만들기 "
      ],
      "metadata": {
        "id": "bnbaXBpBfLJn"
      }
    },
    {
      "cell_type": "markdown",
      "source": [
        "이스케이프 문자 : 역슬래시(\\\\)기호와 함께 조합해서 사용하는 특수한 문자를 의미\n",
        "\n",
        "\\\\\": 큰따옴표를 의미\n",
        "\n",
        "\\\\': 작은따옴표를 의미"
      ],
      "metadata": {
        "id": "yptomu7-fWT3"
      }
    },
    {
      "cell_type": "code",
      "source": [
        "print(\"\\\"안녕하세요\\\"라고 말했습니다.\")\n",
        "print('\\'배가 고픕니다.\\'라고 생각했습니다.')"
      ],
      "metadata": {
        "colab": {
          "base_uri": "https://localhost:8080/"
        },
        "id": "XqrF50LWfvBX",
        "outputId": "1dfd9442-2a21-41a3-d6c7-b84e12c9f4d9"
      },
      "execution_count": null,
      "outputs": [
        {
          "output_type": "stream",
          "name": "stdout",
          "text": [
            "\"안녕하세요\"라고 말했습니다.\n",
            "'배가 고픕니다.'라고 생각했습니다.\n"
          ]
        }
      ]
    },
    {
      "cell_type": "markdown",
      "source": [
        "\\\\n: 줄바꿈을 의미\n",
        "\n",
        "\\\\t: 탭을 의미"
      ],
      "metadata": {
        "id": "IDqnP50HgZQJ"
      }
    },
    {
      "cell_type": "code",
      "source": [
        "print(\"안녕하세요\\n안녕하세요\")"
      ],
      "metadata": {
        "colab": {
          "base_uri": "https://localhost:8080/"
        },
        "id": "_mUCh0RvglGB",
        "outputId": "8acbe8a2-445e-4b73-da7c-9114dc663c8f"
      },
      "execution_count": null,
      "outputs": [
        {
          "output_type": "stream",
          "name": "stdout",
          "text": [
            "안녕하세요\n",
            "안녕하세요\n"
          ]
        }
      ]
    },
    {
      "cell_type": "code",
      "source": [
        "print(\"안녕하세요\\t안녕하세요\")"
      ],
      "metadata": {
        "id": "LvI69d8BgsFJ",
        "colab": {
          "base_uri": "https://localhost:8080/"
        },
        "outputId": "cb89a917-d5b8-426e-8391-130a43500e15"
      },
      "execution_count": null,
      "outputs": [
        {
          "output_type": "stream",
          "name": "stdout",
          "text": [
            "안녕하세요\t안녕하세요\n"
          ]
        }
      ]
    },
    {
      "cell_type": "markdown",
      "source": [
        "\\\\\\\\: 역슬래시(\\\\)를 의미한한다."
      ],
      "metadata": {
        "id": "aHMINcnhhL_J"
      }
    },
    {
      "cell_type": "code",
      "source": [
        "print(\"\\\\ \\\\ \\\\ \\\\\")"
      ],
      "metadata": {
        "colab": {
          "base_uri": "https://localhost:8080/"
        },
        "id": "L6TMujXEhajd",
        "outputId": "c3d5de11-ca4d-42de-af82-fad5f37d3e72"
      },
      "execution_count": null,
      "outputs": [
        {
          "output_type": "stream",
          "name": "stdout",
          "text": [
            "\\ \\ \\ \\\n"
          ]
        }
      ]
    },
    {
      "cell_type": "markdown",
      "source": [
        "파이썬은 **여러 줄 문자열**이라는 기능을 지원한다.\n",
        "\n",
        "여러 줄 문자열은 큰따옴표 또는 작은따옴표를 세번 반복한 기호를 사용한다."
      ],
      "metadata": {
        "id": "Fk-hViVehWAK"
      }
    },
    {
      "cell_type": "code",
      "source": [
        "print(\"\"\"동해물과 백두산이 마르고 닳도록\n",
        "하느님이 보우하사 우리나라 만세\n",
        "무궁화 삼천리 화려강산 대한사람\n",
        "대한으로 길이 보전하세\"\"\")"
      ],
      "metadata": {
        "colab": {
          "base_uri": "https://localhost:8080/"
        },
        "id": "yK7RUBLMh9ra",
        "outputId": "bc4c7ea2-ba82-4837-f2ec-f47f1e4774ed"
      },
      "execution_count": null,
      "outputs": [
        {
          "output_type": "stream",
          "name": "stdout",
          "text": [
            "동해물과 백두산이 마르고 닳도록\n",
            "하느님이 보우하사 우리나라 만세\n",
            "무궁화 삼천리 화려강산 대한사람\n",
            "대한으로 길이 보전하세\n"
          ]
        }
      ]
    },
    {
      "cell_type": "markdown",
      "source": [
        "하지만 이런식으로 의도치 않은 줄바꿈이 들어갈수 있다."
      ],
      "metadata": {
        "id": "a0xfUE8iiJeH"
      }
    },
    {
      "cell_type": "code",
      "source": [
        "print(\"\"\"\n",
        "동해물과 백두산이 마르고 닳도록\n",
        "하느님이 보우하사 우리나라 만세\n",
        "무궁화 삼천리 화려강산 대한사람\n",
        "대한으로 길이 보전하세\n",
        "\"\"\")"
      ],
      "metadata": {
        "colab": {
          "base_uri": "https://localhost:8080/"
        },
        "id": "zaiEo683isx_",
        "outputId": "5809250e-438f-4582-d918-d13314ecad38"
      },
      "execution_count": null,
      "outputs": [
        {
          "output_type": "stream",
          "name": "stdout",
          "text": [
            "\n",
            "동해물과 백두산이 마르고 닳도록\n",
            "하느님이 보우하사 우리나라 만세\n",
            "무궁화 삼천리 화려강산 대한사람\n",
            "대한으로 길이 보전하세\n",
            "\n"
          ]
        }
      ]
    },
    {
      "cell_type": "markdown",
      "source": [
        "만약 이런식으로 의도치 않은 줄바꿈이 들어가지 않게 하려면 \\\\기호를 사용한다."
      ],
      "metadata": {
        "id": "YK68bFpqi1jV"
      }
    },
    {
      "cell_type": "code",
      "source": [
        "print(\"\"\"\\\n",
        "동해물과 백두산이 마르고 닳도록\n",
        "하느님이 보우하사 우리나라 만세\n",
        "무궁화 삼천리 화려강산 대한사람\n",
        "대한으로 길이 보전하세\\\n",
        "\"\"\")"
      ],
      "metadata": {
        "colab": {
          "base_uri": "https://localhost:8080/"
        },
        "id": "cRI5o1tPjAC7",
        "outputId": "d8858fe3-8ab5-4a24-bc6e-6e3fa41f5fb5"
      },
      "execution_count": null,
      "outputs": [
        {
          "output_type": "stream",
          "name": "stdout",
          "text": [
            "동해물과 백두산이 마르고 닳도록\n",
            "하느님이 보우하사 우리나라 만세\n",
            "무궁화 삼천리 화려강산 대한사람\n",
            "대한으로 길이 보전하세\n"
          ]
        }
      ]
    },
    {
      "cell_type": "markdown",
      "source": [
        "### 문자열 연산자"
      ],
      "metadata": {
        "id": "8X3CJrSijJYG"
      }
    },
    {
      "cell_type": "markdown",
      "source": [
        "*숫자에는 숫자에만 적용할 수 있는 연산자가 있고, 문자에는 문자열에만 적용할 수 있는 연산자가 있다.*"
      ],
      "metadata": {
        "id": "F2e7kYubjTNa"
      }
    },
    {
      "cell_type": "markdown",
      "source": [
        "- 문자열 연결 연산자: +\n",
        "\n",
        "문자열에는 +연산자로 문자열 연결 연산을 적용할 수 있다.\n",
        "\n",
        "\"문자열\" + \"문자열\""
      ],
      "metadata": {
        "id": "jFy3kfFsktgy"
      }
    },
    {
      "cell_type": "code",
      "source": [
        "print(\"안녕\"+\"하세요\")\n",
        "print(\"안녕하세요\"+\"!\")"
      ],
      "metadata": {
        "colab": {
          "base_uri": "https://localhost:8080/"
        },
        "id": "bnBiKQNNlg4M",
        "outputId": "f892e01f-c6cd-4542-b7bf-9b3a6347db82"
      },
      "execution_count": null,
      "outputs": [
        {
          "output_type": "stream",
          "name": "stdout",
          "text": [
            "안녕하세요\n",
            "안녕하세요!\n"
          ]
        }
      ]
    },
    {
      "cell_type": "code",
      "source": [
        "print(\"안녕하세요\"+1)"
      ],
      "metadata": {
        "colab": {
          "base_uri": "https://localhost:8080/",
          "height": 171
        },
        "id": "X5MI9hW0loII",
        "outputId": "df8bba21-60dc-4104-9189-e4e180adaa54"
      },
      "execution_count": null,
      "outputs": [
        {
          "output_type": "error",
          "ename": "TypeError",
          "evalue": "ignored",
          "traceback": [
            "\u001b[0;31m---------------------------------------------------------------------------\u001b[0m",
            "\u001b[0;31mTypeError\u001b[0m                                 Traceback (most recent call last)",
            "\u001b[0;32m<ipython-input-8-ef1142912980>\u001b[0m in \u001b[0;36m<cell line: 1>\u001b[0;34m()\u001b[0m\n\u001b[0;32m----> 1\u001b[0;31m \u001b[0mprint\u001b[0m\u001b[0;34m(\u001b[0m\u001b[0;34m\"안녕하세요\"\u001b[0m\u001b[0;34m+\u001b[0m\u001b[0;36m1\u001b[0m\u001b[0;34m)\u001b[0m\u001b[0;34m\u001b[0m\u001b[0;34m\u001b[0m\u001b[0m\n\u001b[0m",
            "\u001b[0;31mTypeError\u001b[0m: can only concatenate str (not \"int\") to str"
          ]
        }
      ]
    },
    {
      "cell_type": "markdown",
      "source": [
        "위와 같은 오류가 나오는 이유는 문자열과 숫자를 +연산자를 사용했기 때문이다.\n",
        "\n",
        "문자열은 무조건 문자열끼리, 숫자는 무조건 숫자끼리 연결해야한다."
      ],
      "metadata": {
        "id": "53pc81OIlwDH"
      }
    },
    {
      "cell_type": "code",
      "source": [
        "print(\"안녕하세요\"+\"1\")"
      ],
      "metadata": {
        "colab": {
          "base_uri": "https://localhost:8080/"
        },
        "id": "cNT0Jvmam_B-",
        "outputId": "0ca6bdc9-f7d2-4102-9273-a6a63cc1ec22"
      },
      "execution_count": null,
      "outputs": [
        {
          "output_type": "stream",
          "name": "stdout",
          "text": [
            "안녕하세요1\n"
          ]
        }
      ]
    },
    {
      "cell_type": "markdown",
      "source": [
        "- 문자열 반복 연산자: * "
      ],
      "metadata": {
        "id": "LKLDbdWTnB1s"
      }
    },
    {
      "cell_type": "code",
      "source": [
        "#문자열*숫자\n",
        "print(\"안녕하세요\"*3)\n",
        "#숫자*문자열\n",
        "print(3*\"안녕하세요\")"
      ],
      "metadata": {
        "colab": {
          "base_uri": "https://localhost:8080/"
        },
        "id": "SZiqRZ_vnQdT",
        "outputId": "83960257-1d43-4b93-d0b5-fd7adb4e69dd"
      },
      "execution_count": null,
      "outputs": [
        {
          "output_type": "stream",
          "name": "stdout",
          "text": [
            "안녕하세요안녕하세요안녕하세요\n",
            "안녕하세요안녕하세요안녕하세요\n"
          ]
        }
      ]
    },
    {
      "cell_type": "markdown",
      "source": [
        "- 문자열 선택 연산자(인덱싱): [ ]\n",
        "\n",
        "문자열 선택 연산자는 문자열 내부의 문자 하나를 선택하는 연산자이다.\n",
        "\n",
        "대괄호[ ]안에 선택할 문자의 위치를 지정하며, 이를 인덱스라고 부른다.\n",
        "\n",
        "프로그래밍 언어는 인덱스 유형을 크게 두가지로 구분해서 사용한다.\n",
        "하나는 숫자를 0부터 세는 **제로 인덱스**, 다른 하나는 숫자를 1부터 세는 **원 인덱스**로 구분한다."
      ],
      "metadata": {
        "id": "qmWt_w6WneJq"
      }
    },
    {
      "cell_type": "markdown",
      "source": [
        "파이썬은 '제로 인덱스'를 사용하는 언어이다."
      ],
      "metadata": {
        "id": "Ekll7Q31nknu"
      }
    },
    {
      "cell_type": "code",
      "source": [
        "print(\"문자 선택 연산자에 대해 알아볼까요?\")\n",
        "print(\"안녕하세요\"[0])\n",
        "print(\"안녀하세요\"[1])\n",
        "print(\"안녕하세요\"[2])\n",
        "print(\"안녕하세요\"[3])\n",
        "print(\"안녕하세요\"[4])\n",
        "#코드를 실행하면 0부터 시작하므로 0번째가 '안'이 되고 4번째가 '요'이다."
      ],
      "metadata": {
        "colab": {
          "base_uri": "https://localhost:8080/"
        },
        "id": "CF2Ert3koyEm",
        "outputId": "6a38c684-f24e-4532-c616-b4e0129a906e"
      },
      "execution_count": null,
      "outputs": [
        {
          "output_type": "stream",
          "name": "stdout",
          "text": [
            "문자 선택 연산자에 대해 알아볼까요?\n",
            "안\n",
            "녀\n",
            "하\n",
            "세\n",
            "요\n"
          ]
        }
      ]
    },
    {
      "cell_type": "markdown",
      "source": [
        "- 문자열 범위 선택 연산자(슬라이싱): [ : ]"
      ],
      "metadata": {
        "id": "f1xfRD-mpM0f"
      }
    },
    {
      "cell_type": "markdown",
      "source": [
        "문자열 선택 연산자의 범위를 지정하는 것이다."
      ],
      "metadata": {
        "id": "9iw-SLBvpqld"
      }
    },
    {
      "cell_type": "code",
      "source": [
        "print(\"안녕하세요\"[1:4])"
      ],
      "metadata": {
        "colab": {
          "base_uri": "https://localhost:8080/"
        },
        "id": "n98bXDfTpxHy",
        "outputId": "17153155-0366-4df0-9684-9c0df4269366"
      },
      "execution_count": null,
      "outputs": [
        {
          "output_type": "stream",
          "name": "stdout",
          "text": [
            "녕하세\n"
          ]
        }
      ]
    },
    {
      "cell_type": "markdown",
      "source": [
        "프로그래밍 언어에 따라 두가지 유형이 있다. 하나는 범위 지정시 '마지막 숫자를 포함'이 있고, 다른 하나는 '마지막 숫자를 포함하지 않음'이 있다.\n",
        "\n",
        "파이썬은 '마지막 숫자를 포함하지 않음'으로 적용한다."
      ],
      "metadata": {
        "id": "6gmMdvpdp0cw"
      }
    },
    {
      "cell_type": "code",
      "source": [
        "print(\"안녕하세요\"[0:2])   #얀[0], 녕[1], 하[2]\n",
        "print(\"안녕하세요\"[1:3])   #녕[1], 하[2], 세[3]\n",
        "print(\"안녕하세요\"[2:4])   #하[2], 세[3], 요[4]"
      ],
      "metadata": {
        "colab": {
          "base_uri": "https://localhost:8080/"
        },
        "id": "qEm9pQI5xoqE",
        "outputId": "89e4e266-a259-4e01-8a56-a574b5d87dff"
      },
      "execution_count": null,
      "outputs": [
        {
          "output_type": "stream",
          "name": "stdout",
          "text": [
            "안녕\n",
            "녕하\n",
            "하세\n"
          ]
        }
      ]
    },
    {
      "cell_type": "markdown",
      "source": [
        "또 문자열 범위 선택 연산자에는 대괄호 안에 넣는 숫자 둘중 하나를 생략하여 사용할 수 있다.\n",
        "\n",
        "예) [1:], [:3]"
      ],
      "metadata": {
        "id": "rVnU8SIkyCSC"
      }
    },
    {
      "cell_type": "code",
      "source": [
        "print(\"안녕하세요\"[1:])   #[1:]이므로 뒤의 값을 생략 했기 때문에 1번째 부터 끝까지\n",
        "print(\"안녕하세요\"[:3])   #[:3]이므로 앞의 값을 생략 했기 때문에 0번째 부터 3번째 까지"
      ],
      "metadata": {
        "colab": {
          "base_uri": "https://localhost:8080/"
        },
        "id": "sZMnntWVya3B",
        "outputId": "0ba512e6-bf8c-4887-ffcd-d0dc791312da"
      },
      "execution_count": null,
      "outputs": [
        {
          "output_type": "stream",
          "name": "stdout",
          "text": [
            "녕하세요\n",
            "안녕하\n"
          ]
        }
      ]
    },
    {
      "cell_type": "markdown",
      "source": [
        "- IndexError(index out of range) 예외\n",
        "\n",
        "IndexError 예외는 리스트/문자열의 수를 넘는 요소/글자를 선택할 때 발생한다."
      ],
      "metadata": {
        "id": "hribDkXn1VcE"
      }
    },
    {
      "cell_type": "code",
      "source": [
        "print(\"안녕하세요\"[10])"
      ],
      "metadata": {
        "colab": {
          "base_uri": "https://localhost:8080/",
          "height": 171
        },
        "id": "HKcB2ZZw1s-9",
        "outputId": "1ebaa8b2-3529-47f4-edab-858b96309eec"
      },
      "execution_count": null,
      "outputs": [
        {
          "output_type": "error",
          "ename": "IndexError",
          "evalue": "ignored",
          "traceback": [
            "\u001b[0;31m---------------------------------------------------------------------------\u001b[0m",
            "\u001b[0;31mIndexError\u001b[0m                                Traceback (most recent call last)",
            "\u001b[0;32m<ipython-input-20-31d7842c8b75>\u001b[0m in \u001b[0;36m<cell line: 1>\u001b[0;34m()\u001b[0m\n\u001b[0;32m----> 1\u001b[0;31m \u001b[0mprint\u001b[0m\u001b[0;34m(\u001b[0m\u001b[0;34m\"안녕하세요\"\u001b[0m\u001b[0;34m[\u001b[0m\u001b[0;36m10\u001b[0m\u001b[0;34m]\u001b[0m\u001b[0;34m)\u001b[0m\u001b[0;34m\u001b[0m\u001b[0;34m\u001b[0m\u001b[0m\n\u001b[0m",
            "\u001b[0;31mIndexError\u001b[0m: string index out of range"
          ]
        }
      ]
    },
    {
      "cell_type": "markdown",
      "source": [
        "### 문자열의 길이 구하기"
      ],
      "metadata": {
        "id": "OJ04aTGLy8Wl"
      }
    },
    {
      "cell_type": "markdown",
      "source": [
        "문자열의 길이를 구할 때는 len()함수를 사용한다."
      ],
      "metadata": {
        "id": "06JotPzU0xyI"
      }
    },
    {
      "cell_type": "code",
      "source": [
        "print(len(\"안녕하세요\"))"
      ],
      "metadata": {
        "colab": {
          "base_uri": "https://localhost:8080/"
        },
        "id": "5a2Nv50x0-Lg",
        "outputId": "7ba08733-70a6-46dd-e369-7b299d431772"
      },
      "execution_count": null,
      "outputs": [
        {
          "output_type": "stream",
          "name": "stdout",
          "text": [
            "5\n"
          ]
        }
      ]
    },
    {
      "cell_type": "code",
      "source": [
        "print(len(\"안녕하세요\")) \n",
        "print(5)"
      ],
      "metadata": {
        "colab": {
          "base_uri": "https://localhost:8080/"
        },
        "id": "bhL-GVJs1CSi",
        "outputId": "592fb28c-a12f-4c66-b418-19974d175a6c"
      },
      "execution_count": null,
      "outputs": [
        {
          "output_type": "stream",
          "name": "stdout",
          "text": [
            "5\n",
            "5\n"
          ]
        }
      ]
    },
    {
      "cell_type": "markdown",
      "source": [
        "# **2.숫자**"
      ],
      "metadata": {
        "id": "_wM7N0d419SK"
      }
    },
    {
      "cell_type": "markdown",
      "source": [
        "정수형: 소수점이 없는 숫자\n",
        "\n",
        "실수형: 소수점이 있는 숫자\n",
        "\n",
        "부동 소수점: 소수점이 움직이는 숫자자"
      ],
      "metadata": {
        "id": "-KUjIom71_oB"
      }
    },
    {
      "cell_type": "markdown",
      "source": [
        "### 숫자의 종류"
      ],
      "metadata": {
        "id": "u9rNeLRGjCRL"
      }
    },
    {
      "cell_type": "code",
      "source": [
        "print(273)\n",
        "print(52.273)"
      ],
      "metadata": {
        "colab": {
          "base_uri": "https://localhost:8080/"
        },
        "id": "KMyN3YlBovXF",
        "outputId": "5a407bdb-0e47-4907-8ee8-952e4c651e40"
      },
      "execution_count": null,
      "outputs": [
        {
          "output_type": "stream",
          "name": "stdout",
          "text": [
            "273\n",
            "52.273\n"
          ]
        }
      ]
    },
    {
      "cell_type": "markdown",
      "source": [
        "숫자에는 두 가지 종류가 있다. '소숫점이 없는 숫자'와 '소수점이 있는 숫자'"
      ],
      "metadata": {
        "id": "ejxc90atozaC"
      }
    },
    {
      "cell_type": "code",
      "source": [
        "#소수점이 없는 숫자와 소수점이 있는 숫자를 type()함수로 출력\n",
        "print(type(52))\n",
        "print(type(52.273))"
      ],
      "metadata": {
        "colab": {
          "base_uri": "https://localhost:8080/"
        },
        "id": "N_rmB7ENpCZG",
        "outputId": "39058860-7c01-472f-fa22-04065f96cabb"
      },
      "execution_count": null,
      "outputs": [
        {
          "output_type": "stream",
          "name": "stdout",
          "text": [
            "<class 'int'>\n",
            "<class 'float'>\n"
          ]
        }
      ]
    },
    {
      "cell_type": "markdown",
      "source": [
        "코드를 실행하니 <class 'int'>와 <class 'float'>를 출력한다.\n",
        "\n",
        "int: 정수\n",
        "\n",
        "float: 부동소수점(실수)"
      ],
      "metadata": {
        "id": "-e29PMaLpQoJ"
      }
    },
    {
      "cell_type": "code",
      "source": [
        "print(0)  \n",
        "print(type(0))    #소수점이 없으므로 정수인 int출력\n",
        "print(0.0)\n",
        "print(type(0.0))  #소수점이 있으므로 부동소수점(실수)인 float출력"
      ],
      "metadata": {
        "colab": {
          "base_uri": "https://localhost:8080/"
        },
        "id": "eCX_7GUEqBOx",
        "outputId": "91b89ad0-3b6e-4b57-cb96-bedcdd0f91e3"
      },
      "execution_count": null,
      "outputs": [
        {
          "output_type": "stream",
          "name": "stdout",
          "text": [
            "0\n",
            "<class 'int'>\n",
            "0.0\n",
            "<class 'float'>\n"
          ]
        }
      ]
    },
    {
      "cell_type": "markdown",
      "source": [
        "### 숫자 연산자"
      ],
      "metadata": {
        "id": "6GXtl5vbqRut"
      }
    },
    {
      "cell_type": "markdown",
      "source": [
        "- 사칙 연산자: +, -, *, /"
      ],
      "metadata": {
        "id": "LSmxiQxmzdlT"
      }
    },
    {
      "cell_type": "code",
      "source": [
        "print(\"5+7=\", 5+7)\n",
        "print(\"5-7=\", 5-7)\n",
        "print(\"5*7=\", 5*7)\n",
        "print(\"5/7=\", 5/7)"
      ],
      "metadata": {
        "colab": {
          "base_uri": "https://localhost:8080/"
        },
        "id": "uDfYB6Y2zlEs",
        "outputId": "30e2d326-06f5-43a1-f4d2-827fd4c40d0c"
      },
      "execution_count": null,
      "outputs": [
        {
          "output_type": "stream",
          "name": "stdout",
          "text": [
            "5+7= 12\n",
            "5-7= -2\n",
            "5*7= 35\n",
            "5/7= 0.7142857142857143\n"
          ]
        }
      ]
    },
    {
      "cell_type": "markdown",
      "source": [
        "- 정수 나누기 연산자: //\n",
        "\n",
        "이것은 숫자를 나누고 소수점 이하의 자릿수를 떼어 버린 후 정수 부분만 남기는 정수 나누기 연산자 이다."
      ],
      "metadata": {
        "id": "PPGTb-lmzyvo"
      }
    },
    {
      "cell_type": "code",
      "source": [
        "print(\"3/2=\", 3/2)\n",
        "print(\"3//2=\", 3//2)"
      ],
      "metadata": {
        "colab": {
          "base_uri": "https://localhost:8080/"
        },
        "id": "SkkphRJj0C7v",
        "outputId": "8ab8074f-76f7-4e02-dfc5-08a27ce79e56"
      },
      "execution_count": null,
      "outputs": [
        {
          "output_type": "stream",
          "name": "stdout",
          "text": [
            "3/2= 1.5\n",
            "3//2= 1\n"
          ]
        }
      ]
    },
    {
      "cell_type": "markdown",
      "source": [
        "- 나머지 연산자: %\n",
        "\n",
        "나머지 연산자는 A를 B로 나누었을 때 남은 나머지를 구하는 연산자이다."
      ],
      "metadata": {
        "id": "U9FejhI-0Jde"
      }
    },
    {
      "cell_type": "code",
      "source": [
        "print(\"5%2=\", 5%2)"
      ],
      "metadata": {
        "colab": {
          "base_uri": "https://localhost:8080/"
        },
        "id": "IFJDp6x70XgT",
        "outputId": "447f544a-9240-4797-a034-3e9e022155ad"
      },
      "execution_count": null,
      "outputs": [
        {
          "output_type": "stream",
          "name": "stdout",
          "text": [
            "5%2= 1\n"
          ]
        }
      ]
    },
    {
      "cell_type": "markdown",
      "source": [
        "- 제곱 연산자: **"
      ],
      "metadata": {
        "id": "2081crnA0adY"
      }
    },
    {
      "cell_type": "code",
      "source": [
        "print(\"2 ** 1 =\", 2 ** 1)\n",
        "print(\"2 ** 2 =\", 2 ** 2)\n",
        "print(\"2 ** 3 =\", 2 ** 3)\n",
        "print(\"2 ** 4 =\", 2 ** 4)"
      ],
      "metadata": {
        "colab": {
          "base_uri": "https://localhost:8080/"
        },
        "id": "g5rs624O0-jZ",
        "outputId": "bab4439f-23c4-4e62-9129-a7fc33c79cad"
      },
      "execution_count": null,
      "outputs": [
        {
          "output_type": "stream",
          "name": "stdout",
          "text": [
            "2 ** 1 = 2\n",
            "2 ** 2 = 4\n",
            "2 ** 3 = 8\n",
            "2 ** 4 = 16\n"
          ]
        }
      ]
    },
    {
      "cell_type": "markdown",
      "source": [
        "### 연산자의 우선순위"
      ],
      "metadata": {
        "id": "vphuG-Gv1FV3"
      }
    },
    {
      "cell_type": "code",
      "source": [
        "print(2 + 2 - 2 * 2 / 2 * 2)  #곱셈/나눗셈과 덧셈/뺄셈처럼 같은 우선순위를 가지는 연산자는 왼쪽에서 오른쪽 순서로 계산한다.\n",
        "print(2 - 2 + 2 / 2 * 2 + 2) \n",
        "print((5 + 3) * 2)            #괄호 먼저 계산\n",
        "print(5 + (3 * 2))"
      ],
      "metadata": {
        "colab": {
          "base_uri": "https://localhost:8080/"
        },
        "id": "Q5J3V_Ng1fkA",
        "outputId": "c8a4ca66-d495-486b-fc9c-1d6624b87ede"
      },
      "execution_count": null,
      "outputs": [
        {
          "output_type": "stream",
          "name": "stdout",
          "text": [
            "0.0\n",
            "4.0\n",
            "16\n",
            "11\n"
          ]
        }
      ]
    },
    {
      "cell_type": "markdown",
      "source": [
        "# **3. 변수와 입력**"
      ],
      "metadata": {
        "id": "ohYoMHyz3zCf"
      }
    },
    {
      "cell_type": "markdown",
      "source": [
        "변수: 값을 저장할 때 사용하는 식별자이다."
      ],
      "metadata": {
        "id": "ugMmIBFJ9rDG"
      }
    },
    {
      "cell_type": "markdown",
      "source": [
        "### 변수 만들기/사용하기"
      ],
      "metadata": {
        "id": "0Ae3R5aB-SYk"
      }
    },
    {
      "cell_type": "code",
      "source": [
        "pi=3.141592  #pi라는 변수 만들기\n",
        "pi"
      ],
      "metadata": {
        "colab": {
          "base_uri": "https://localhost:8080/"
        },
        "id": "yPUbICwN-WJE",
        "outputId": "f378e9c2-80d6-4a4a-e2c4-43f017560216"
      },
      "execution_count": null,
      "outputs": [
        {
          "output_type": "execute_result",
          "data": {
            "text/plain": [
              "3.141592"
            ]
          },
          "metadata": {},
          "execution_count": 21
        }
      ]
    },
    {
      "cell_type": "markdown",
      "source": [
        "- 변수를 활용하는 방법 세가지\n",
        "\n",
        "**첫째, 변수를 선언하는 방법**\n",
        "\n",
        "변수 생성을 의미한다. (pi를 사용하겠다)\n",
        "\n",
        "**둘째, 변수에 값을 할당하는 방법**\n",
        "\n",
        "변수에 값을 넣는 것을 의미 (pi에 3.141592의 값을 넣겠다.)\n",
        "\n",
        "**셋째, 변수를 참조하는 방법**\n",
        "\n",
        "변수에서 값을 꺼내는 것을 의미 (pi를 입력하면 3.141592라는 값이 보인다.)"
      ],
      "metadata": {
        "id": "PBcMh0Ri-ZlF"
      }
    },
    {
      "cell_type": "code",
      "source": [
        "pi = 3.141592\n",
        "print(pi + 2)\n",
        "print(pi - 2)\n",
        "print(pi * 2)\n",
        "print(pi / 2)\n",
        "print(pi % 2)\n",
        "print(pi * pi)"
      ],
      "metadata": {
        "colab": {
          "base_uri": "https://localhost:8080/"
        },
        "id": "I0EBNxfg_IWi",
        "outputId": "148b7658-3f4d-49d7-f305-f1473268e162"
      },
      "execution_count": null,
      "outputs": [
        {
          "output_type": "stream",
          "name": "stdout",
          "text": [
            "5.141592\n",
            "1.1415920000000002\n",
            "6.283184\n",
            "1.570796\n",
            "1.1415920000000002\n",
            "9.869600294464002\n"
          ]
        }
      ]
    },
    {
      "cell_type": "code",
      "source": [
        "#원의 둘레 구하기\n",
        "#변수 선언과 할당\n",
        "pi = 3.14159265\n",
        "r = 10\n",
        "\n",
        "#변수 참조\n",
        "print(\"원주율 =\", pi)\n",
        "print(\"반지름 =\", r)\n",
        "print(\"원의 둘레 = \", 2 * pi * r)\n",
        "print(\"원의 넓이 = \", pi * r * r)"
      ],
      "metadata": {
        "id": "y25ywhaO_ZEJ",
        "colab": {
          "base_uri": "https://localhost:8080/"
        },
        "outputId": "167d4f37-0673-4f44-8f9d-dea4cda60535"
      },
      "execution_count": null,
      "outputs": [
        {
          "output_type": "stream",
          "name": "stdout",
          "text": [
            "원주율 = 3.14159265\n",
            "반지름 = 10\n",
            "원의 둘레 =  62.831853\n",
            "원의 넓이 =  314.159265\n"
          ]
        }
      ]
    },
    {
      "cell_type": "markdown",
      "source": [
        "### 복합 대입 연산자\n",
        "\n",
        "- 숫자에 적용 가능한 복합 대입 연산자\n",
        "\n",
        "+=: 숫자 덧셈 후 대입\n",
        "\n",
        "-=: 숫자 뻴셈 후 대입\n",
        "\n",
        "*=: 숫자 곱셈 후 대입\n",
        "\n",
        "/=: 숫자 나눗셈 후 대입\n",
        "\n",
        "%=: 숫자의 나머지를 구한 후 대입\n",
        "\n",
        "**=: 숫자 제곱 후 대입"
      ],
      "metadata": {
        "id": "6OWldF01CzKw"
      }
    },
    {
      "cell_type": "code",
      "source": [
        "number = 100\n",
        "number += 10\n",
        "number += 20\n",
        "number += 30\n",
        "print(\"number:\", number)"
      ],
      "metadata": {
        "colab": {
          "base_uri": "https://localhost:8080/"
        },
        "id": "0OK4KcO4D-Rd",
        "outputId": "b5dd3ab2-7dc2-4778-854a-6c766c659512"
      },
      "execution_count": null,
      "outputs": [
        {
          "output_type": "stream",
          "name": "stdout",
          "text": [
            "number: 160\n"
          ]
        }
      ]
    },
    {
      "cell_type": "markdown",
      "source": [
        "- 문자열에 적용 가능한 복합 대입 연산자\n",
        "\n",
        "+=: 문자열 연결 후 대입\n",
        "\n",
        "*=: 문자열 반복 후 대입"
      ],
      "metadata": {
        "id": "tP9RmLQsEXPY"
      }
    },
    {
      "cell_type": "code",
      "source": [
        "string = \"안녕하세요\"\n",
        "string += \"!\"\n",
        "string += \"!\"\n",
        "print(\"string:\", string)"
      ],
      "metadata": {
        "colab": {
          "base_uri": "https://localhost:8080/"
        },
        "id": "tIrZRLuDEj9R",
        "outputId": "274fd1f2-f7c6-4fd3-cf20-1827018acaad"
      },
      "execution_count": null,
      "outputs": [
        {
          "output_type": "stream",
          "name": "stdout",
          "text": [
            "string: 안녕하세요!!\n"
          ]
        }
      ]
    },
    {
      "cell_type": "markdown",
      "source": [
        "### 사용자 입력: input()\n",
        "\n",
        "사용자로부터 데이터를 입력받을 때 input()함수를 사용한다."
      ],
      "metadata": {
        "id": "Aq8DBTDXEvMj"
      }
    },
    {
      "cell_type": "markdown",
      "source": [
        "- input()함수로 사용자 입력 받기\n",
        "\n",
        "프롬프트 문자열: input 함수 괄호 안에 입력한 내용이고, 사용자에게 입력을 요구하는 안내 내용을 의미한다."
      ],
      "metadata": {
        "id": "8tgi1oGoE6NA"
      }
    },
    {
      "cell_type": "code",
      "source": [
        "input(\"인사말을 입력하세요>\")"
      ],
      "metadata": {
        "colab": {
          "base_uri": "https://localhost:8080/",
          "height": 53
        },
        "id": "lXHH1YXcFjEv",
        "outputId": "753c8097-8d11-40a1-d470-0bc358b24156"
      },
      "execution_count": null,
      "outputs": [
        {
          "name": "stdout",
          "output_type": "stream",
          "text": [
            "인사말을 입력하세요>\n"
          ]
        },
        {
          "output_type": "execute_result",
          "data": {
            "text/plain": [
              "''"
            ],
            "application/vnd.google.colaboratory.intrinsic+json": {
              "type": "string"
            }
          },
          "metadata": {},
          "execution_count": 30
        }
      ]
    },
    {
      "cell_type": "markdown",
      "source": [
        "위처럼 프로그램이 실행 도중에 잠시 멈추는 것을 블록 이라고 한다.\n"
      ],
      "metadata": {
        "id": "YCKag1UZFnyW"
      }
    },
    {
      "cell_type": "code",
      "source": [
        "string = input(\"인사말을 입력하세요>\")\n",
        "print(string)"
      ],
      "metadata": {
        "id": "rFI3ku0VF69_",
        "colab": {
          "base_uri": "https://localhost:8080/"
        },
        "outputId": "78c6dc53-411e-4835-809a-806679e824c4"
      },
      "execution_count": null,
      "outputs": [
        {
          "output_type": "stream",
          "name": "stdout",
          "text": [
            "인사말을 입력하세요>ㅎㅇ\n",
            "ㅎㅇ\n"
          ]
        }
      ]
    },
    {
      "cell_type": "markdown",
      "source": [
        "input과 같이 함수의 결과로 나오는 값을 리턴값이라고 한다."
      ],
      "metadata": {
        "id": "-xCn36VUGb9S"
      }
    },
    {
      "cell_type": "markdown",
      "source": [
        "- input() 함수의 입력 자료형"
      ],
      "metadata": {
        "id": "00gZmZrBGj9s"
      }
    },
    {
      "cell_type": "code",
      "source": [
        "print(type(string))"
      ],
      "metadata": {
        "colab": {
          "base_uri": "https://localhost:8080/"
        },
        "id": "xbvJn1WrGruY",
        "outputId": "375c1573-fdb9-4264-aedc-002066d68a95"
      },
      "execution_count": null,
      "outputs": [
        {
          "output_type": "stream",
          "name": "stdout",
          "text": [
            "<class 'str'>\n"
          ]
        }
      ]
    },
    {
      "cell_type": "code",
      "source": [
        "number = input(\"숫자를 입력하세요>\")\n",
        "print(number)\n",
        "print(type(number))"
      ],
      "metadata": {
        "colab": {
          "base_uri": "https://localhost:8080/"
        },
        "id": "Ho23jIgeGwFA",
        "outputId": "f3844acf-c89d-4fbd-ce49-dec9f9a63b5e"
      },
      "execution_count": null,
      "outputs": [
        {
          "output_type": "stream",
          "name": "stdout",
          "text": [
            "숫자를 입력하세요>12345\n",
            "12345\n",
            "<class 'str'>\n"
          ]
        }
      ]
    },
    {
      "cell_type": "code",
      "source": [
        "#입력 자료형 확인하기\n",
        "#입력을 받습니다.\n",
        "string = input(\"입력>\")\n",
        "\n",
        "#출력합니다.\n",
        "print(\"자료: \", string)\n",
        "print(\"자료형: \", type(string))"
      ],
      "metadata": {
        "colab": {
          "base_uri": "https://localhost:8080/"
        },
        "id": "XWj8zWPNG47F",
        "outputId": "fa238268-a5ca-453b-9f3c-8cc7cd83a480"
      },
      "execution_count": null,
      "outputs": [
        {
          "output_type": "stream",
          "name": "stdout",
          "text": [
            "입력>Ture\n",
            "자료:  Ture\n",
            "자료형:  <class 'str'>\n"
          ]
        }
      ]
    },
    {
      "cell_type": "code",
      "source": [
        "#입력받고 더하기\n",
        "#입력을 받습니다.\n",
        "string = input(\"입력>\")\n",
        "\n",
        "#출력합니다.\n",
        "print(\"입력 + 100:\", string + 100)\n",
        "\n",
        "#오류발생\n",
        "#이유: input()함수로 입력받은 자료는 모두 문자열로 저장되기 때문이다."
      ],
      "metadata": {
        "colab": {
          "base_uri": "https://localhost:8080/",
          "height": 260
        },
        "id": "7QQVCJC4HkSF",
        "outputId": "d4a8c99f-b84a-441e-c4f3-37e03b086161"
      },
      "execution_count": null,
      "outputs": [
        {
          "name": "stdout",
          "output_type": "stream",
          "text": [
            "입력>1930\n"
          ]
        },
        {
          "output_type": "error",
          "ename": "TypeError",
          "evalue": "ignored",
          "traceback": [
            "\u001b[0;31m---------------------------------------------------------------------------\u001b[0m",
            "\u001b[0;31mTypeError\u001b[0m                                 Traceback (most recent call last)",
            "\u001b[0;32m<ipython-input-40-3b30f3712655>\u001b[0m in \u001b[0;36m<cell line: 6>\u001b[0;34m()\u001b[0m\n\u001b[1;32m      4\u001b[0m \u001b[0;34m\u001b[0m\u001b[0m\n\u001b[1;32m      5\u001b[0m \u001b[0;31m#출력합니다.\u001b[0m\u001b[0;34m\u001b[0m\u001b[0;34m\u001b[0m\u001b[0m\n\u001b[0;32m----> 6\u001b[0;31m \u001b[0mprint\u001b[0m\u001b[0;34m(\u001b[0m\u001b[0;34m\"입력 + 100:\"\u001b[0m\u001b[0;34m,\u001b[0m \u001b[0mstring\u001b[0m \u001b[0;34m+\u001b[0m \u001b[0;36m100\u001b[0m\u001b[0;34m)\u001b[0m\u001b[0;34m\u001b[0m\u001b[0;34m\u001b[0m\u001b[0m\n\u001b[0m\u001b[1;32m      7\u001b[0m \u001b[0;34m\u001b[0m\u001b[0m\n\u001b[1;32m      8\u001b[0m \u001b[0;31m#오류발생\u001b[0m\u001b[0;34m\u001b[0m\u001b[0;34m\u001b[0m\u001b[0m\n",
            "\u001b[0;31mTypeError\u001b[0m: can only concatenate str (not \"int\") to str"
          ]
        }
      ]
    },
    {
      "cell_type": "markdown",
      "source": [
        "### 문자열을 숫자로 바꾸기\n",
        "\n",
        "문자열을 숫자로 변환하는 것을 *캐스트*라고 부른다.\n",
        "\n",
        "int()함수: 문자열을 int 자료형으로 변환합니다.\n",
        "\n",
        "float()함수: 문자열을 float 자료형으로 변환합니다."
      ],
      "metadata": {
        "id": "iQMgbf68H4AJ"
      }
    },
    {
      "cell_type": "code",
      "source": [
        "#int()함수 활용하기\n",
        "string_a = input(\"입력A>\")\n",
        "int_a = int(string_a)\n",
        "\n",
        "string_b = input(\"입력B>\")\n",
        "int_b = int(string_b)\n",
        "\n",
        "print(\"문자열 자료:\", string_a + string_b)\n",
        "print(\"숫자 자료:\", int_a + int_b)"
      ],
      "metadata": {
        "colab": {
          "base_uri": "https://localhost:8080/"
        },
        "id": "iWftTDuJIj-8",
        "outputId": "f58bda92-7594-4613-a09b-e419f5e5e698"
      },
      "execution_count": null,
      "outputs": [
        {
          "output_type": "stream",
          "name": "stdout",
          "text": [
            "입력A>273\n",
            "입력B>52\n",
            "문자열 자료: 27352\n",
            "숫자 자료: 325\n"
          ]
        }
      ]
    },
    {
      "cell_type": "code",
      "source": [
        "#int()함수와 float()함수 활용하기\n",
        "output_a = int(\"52\")\n",
        "output_b = float(\"52.273\")\n",
        "\n",
        "print(type(output_a), output_a)\n",
        "print(type(output_b), output_b)"
      ],
      "metadata": {
        "colab": {
          "base_uri": "https://localhost:8080/"
        },
        "id": "KtODgCIlJXQG",
        "outputId": "9e76811f-e56a-445b-b2ba-f7b0d3768f37"
      },
      "execution_count": null,
      "outputs": [
        {
          "output_type": "stream",
          "name": "stdout",
          "text": [
            "<class 'int'> 52\n",
            "<class 'float'> 52.273\n"
          ]
        }
      ]
    },
    {
      "cell_type": "code",
      "source": [
        "#int()와 float()함수 조합하기\n",
        "input_a = float(input(\"첫번째 숫자>\"))\n",
        "input_b = float(input(\"두번째 숫자>\"))\n",
        "print(\"덧셈 결과:\", input_a + input_b)\n",
        "print(\"뻴셈 결과:\", input_a - input_b)\n",
        "print(\"곱셈 결과:\", input_a * input_b)\n",
        "print(\"나눗셈 결과:\", input_a / input_b)"
      ],
      "metadata": {
        "colab": {
          "base_uri": "https://localhost:8080/"
        },
        "id": "RIHtEWVBJsBo",
        "outputId": "3c2cd3bf-543f-43fe-fccc-2c357907919b"
      },
      "execution_count": null,
      "outputs": [
        {
          "output_type": "stream",
          "name": "stdout",
          "text": [
            "첫번째 숫자>273\n",
            "두번째 숫자>52\n",
            "덧셈 결과: 325.0\n",
            "뻴셈 결과: 221.0\n",
            "곱셈 결과: 14196.0\n",
            "나눗셈 결과: 5.25\n"
          ]
        }
      ]
    },
    {
      "cell_type": "markdown",
      "source": [
        "- ValueError 예외\n",
        "\n",
        "자료형을 변환할 때 '변환할 수 없는 것'을 변환하려고 하면 ValueError예외가 발생한다. 이러한 예외가 발생하는 경우는 다음 두가지 이다.\n",
        "\n",
        "**첫째, 숫자가 아닌 것을 숫자로 변환하려고 할 때**\n",
        "\n",
        "**둘째, 소수점이 있는 숫자 형식의 문자열을 int()함수로 변환하려고 할 때**"
      ],
      "metadata": {
        "id": "qdP7uymkKpVl"
      }
    },
    {
      "cell_type": "markdown",
      "source": [
        "### 숫자를 문자열로 바꾸기\n",
        "\n",
        "str()함수 사용"
      ],
      "metadata": {
        "id": "0fYNF0G2LOHv"
      }
    },
    {
      "cell_type": "code",
      "source": [
        "#str()함수를 사용해 숫자를 문자열로 변환하기\n",
        "output_a = str(52)\n",
        "output_b = str(52.273)\n",
        "print(type(output_a), output_a)\n",
        "print(type(output_b), output_b)"
      ],
      "metadata": {
        "colab": {
          "base_uri": "https://localhost:8080/"
        },
        "id": "MP9cx_CxLlJc",
        "outputId": "2d7dfdf1-2c48-42ce-bc46-3d609a415af5"
      },
      "execution_count": null,
      "outputs": [
        {
          "output_type": "stream",
          "name": "stdout",
          "text": [
            "<class 'str'> 52\n",
            "<class 'str'> 52.273\n"
          ]
        }
      ]
    },
    {
      "cell_type": "code",
      "source": [
        "#inch 단위를 cm 단위로 변경하기\n",
        "raw_input = input(\"inch 단위의 숫자를 입력하세요>\")\n",
        "inch = int(raw_input)\n",
        "cm = inch * 2.54\n",
        "\n",
        "print(inch, \"inch는 cm 단위로\", cm, \"cm입니다.\")"
      ],
      "metadata": {
        "id": "hmuHFQxWPYQU",
        "colab": {
          "base_uri": "https://localhost:8080/"
        },
        "outputId": "3c883d04-f532-45f7-d52e-21edbff8b7fa"
      },
      "execution_count": null,
      "outputs": [
        {
          "output_type": "stream",
          "name": "stdout",
          "text": [
            "inch 단위의 숫자를 입력하세요>27\n",
            "27 inch는 cm 단위로 68.58 cm입니다.\n"
          ]
        }
      ]
    },
    {
      "cell_type": "markdown",
      "source": [
        "#**4. 숫자와 문자열의 다양한 기능**"
      ],
      "metadata": {
        "id": "x4n2wLtqQOPI"
      }
    },
    {
      "cell_type": "markdown",
      "source": [
        "### 문자열의 format()함수\n",
        "\n",
        "format()함수는 문자열이 가지고 있는 함수이다. 중괄호{}를 포함한 문자열 뒤애 마침표(.)를 찍고 format()함수를 사용하는데, 중괄호의 개수와 format()함수 괄호 안 매개변수의 개수는 반드시 같아야 한다."
      ],
      "metadata": {
        "id": "_qCY0ozfQ2CF"
      }
    },
    {
      "cell_type": "code",
      "source": [
        "#format()함수로 숫자를 문자열로 변환하기\n",
        "string_a = \"{}\".format(10)\n",
        "\n",
        "#출력하기\n",
        "print(string_a)\n",
        "print(type(string_a))"
      ],
      "metadata": {
        "colab": {
          "base_uri": "https://localhost:8080/"
        },
        "id": "qJTUUs1ZQ84L",
        "outputId": "34d4f416-f385-4c0b-d323-d85d20186931"
      },
      "execution_count": null,
      "outputs": [
        {
          "output_type": "stream",
          "name": "stdout",
          "text": [
            "10\n",
            "<class 'str'>\n"
          ]
        }
      ]
    },
    {
      "cell_type": "code",
      "source": [
        "#format() 함수의 다양한 형태\n",
        "format_a = \"{}만원\".format(5000)\n",
        "format_b = \"파이썬 열공하여 첫 연봉 {}만원 만들기\".format(5000)\n",
        "format_c = \"{} {} {}\".format(3000, 4000, 5000)\n",
        "format_d = \"{} {} {}\".format(1, \"문자열\", \"Ture\")\n",
        "\n",
        "#출력하기\n",
        "print(format_a)\n",
        "print(format_b)\n",
        "print(format_c)\n",
        "print(format_d)"
      ],
      "metadata": {
        "colab": {
          "base_uri": "https://localhost:8080/"
        },
        "id": "qsc8OrplR3PJ",
        "outputId": "010cb45b-de8c-4ae1-f19f-32c23fc970cc"
      },
      "execution_count": null,
      "outputs": [
        {
          "output_type": "stream",
          "name": "stdout",
          "text": [
            "5000만원\n",
            "파이썬 열공하여 첫 연봉 5000만원 만들기\n",
            "3000 4000 5000\n",
            "1 문자열 Ture\n"
          ]
        }
      ]
    },
    {
      "cell_type": "markdown",
      "source": [
        "### foramt()함수의 다양한 기능\n",
        "\n",
        "- 정수 출력의 다양한 형태"
      ],
      "metadata": {
        "id": "tnJh7Ie5S7jh"
      }
    },
    {
      "cell_type": "code",
      "source": [
        "#정수를 특정 칸에 출력하기\n",
        "#정수\n",
        "output_a = \"{:d}\".format(52)\n",
        "\n",
        "#특정 칸에 출력하기\n",
        "output_b = \"{:5d}\".format(52)\n",
        "output_c = \"{:10d}\".format(52)\n",
        "\n",
        "#빈칸을 0으로 채우기\n",
        "output_d = \"{:05d}\".format(52)\n",
        "output_e = \"{:05d}\".format(-52)\n",
        "\n",
        "print(\"#기본\")\n",
        "print(output_a)\n",
        "print(\"#특정 칸에 출력하기\")\n",
        "print(output_b)\n",
        "print(output_c)\n",
        "print(\"#빈칸을 0으로 채우기\")\n",
        "print(output_d)\n",
        "print(output_e)"
      ],
      "metadata": {
        "colab": {
          "base_uri": "https://localhost:8080/"
        },
        "id": "ZxBs3u8dTnnu",
        "outputId": "542f6547-7d4b-496f-cb95-d985cac64772"
      },
      "execution_count": null,
      "outputs": [
        {
          "output_type": "stream",
          "name": "stdout",
          "text": [
            "#기본\n",
            "52\n",
            "#특정 칸에 출력하기\n",
            "   52\n",
            "        52\n",
            "#빈칸을 0으로 채우기\n",
            "00052\n",
            "-0052\n"
          ]
        }
      ]
    },
    {
      "cell_type": "code",
      "source": [
        "#기호 붙여 출력하기\n",
        "output_f = \"{:+d}\".format(52)\n",
        "output_g = \"{:+d}\".format(-52)\n",
        "output_h = \"{: d}\".format(52)\n",
        "output_i = \"{: d}\".format(-52)\n",
        "\n",
        "print(\"#기호와 함께 출력하기\")\n",
        "print(output_f)\n",
        "print(output_g)\n",
        "print(output_h)\n",
        "print(output_i)"
      ],
      "metadata": {
        "colab": {
          "base_uri": "https://localhost:8080/"
        },
        "id": "L4bKAOfEUPKj",
        "outputId": "903793cd-b252-4062-e80b-2ac12c432298"
      },
      "execution_count": null,
      "outputs": [
        {
          "output_type": "stream",
          "name": "stdout",
          "text": [
            "#기호와 함께 출력하기\n",
            "+52\n",
            "-52\n",
            " 52\n",
            "-52\n"
          ]
        }
      ]
    },
    {
      "cell_type": "code",
      "source": [
        "#조합하기\n",
        "output_h = \"{:+5d}\".format(52)\n",
        "output_i = \"{:+5d}\".format(-52)\n",
        "output_j = \"{:=+5d}\".format(52)\n",
        "output_k = \"{:=+5d}\".format(-52)\n",
        "output_l = \"{:+05d}\".format(52)\n",
        "output_m = \"{:+05d}\".format(-52)\n",
        "\n",
        "print(\"#조합하기\")\n",
        "print(output_h)\n",
        "print(output_i)\n",
        "print(output_j)\n",
        "print(output_k)\n",
        "print(output_l)\n",
        "print(output_m)"
      ],
      "metadata": {
        "id": "C3dgnVTSXlAm",
        "colab": {
          "base_uri": "https://localhost:8080/"
        },
        "outputId": "0effb583-463b-4ea8-919c-869669736f88"
      },
      "execution_count": null,
      "outputs": [
        {
          "output_type": "stream",
          "name": "stdout",
          "text": [
            "#조합하기\n",
            "  +52\n",
            "  -52\n",
            "+  52\n",
            "-  52\n",
            "+0052\n",
            "-0052\n"
          ]
        }
      ]
    },
    {
      "cell_type": "markdown",
      "source": [
        "- 부동 소수점 출력의 다양한 형태"
      ],
      "metadata": {
        "id": "G8bYJwMlSEVy"
      }
    },
    {
      "cell_type": "code",
      "source": [
        "#다양한 형태의 부동 소수점 출력하기\n",
        "output_a = \"{:f}\".format(52.273)\n",
        "output_b = \"{:15f}\".format(52.273)\n",
        "output_c = \"{:+15f}\".format(52.273)\n",
        "output_d = \"{:+015f}\".format(52.273)\n",
        "\n",
        "\n",
        "print(output_a)\n",
        "print(output_b)\n",
        "print(output_c)\n",
        "print(output_d)"
      ],
      "metadata": {
        "colab": {
          "base_uri": "https://localhost:8080/"
        },
        "id": "c-uaSn7eSEFq",
        "outputId": "563343bc-fb7d-4a55-eefa-07c6548bbcd3"
      },
      "execution_count": null,
      "outputs": [
        {
          "output_type": "stream",
          "name": "stdout",
          "text": [
            "52.273000\n",
            "      52.273000\n",
            "     +52.273000\n",
            "+0000052.273000\n"
          ]
        }
      ]
    },
    {
      "cell_type": "code",
      "source": [
        "#소수점 아래 자릿수 지정하기\n",
        "output_a = \"{:15.3f}\".format(52.273)\n",
        "output_b = \"{:15.2f}\".format(52.273)\n",
        "output_c = \"{:15.1f}\".format(52.273)\n",
        "\n",
        "print(output_a)\n",
        "print(output_b)\n",
        "print(output_c)"
      ],
      "metadata": {
        "colab": {
          "base_uri": "https://localhost:8080/"
        },
        "id": "C6kaCxNeQgHL",
        "outputId": "93bdcffd-65bb-4075-b538-099aef5eb5fb"
      },
      "execution_count": null,
      "outputs": [
        {
          "output_type": "stream",
          "name": "stdout",
          "text": [
            "         52.273\n",
            "          52.27\n",
            "           52.3\n"
          ]
        }
      ]
    },
    {
      "cell_type": "markdown",
      "source": [
        "- 의미 없는 소수점 제거하기"
      ],
      "metadata": {
        "id": "2x4s8AxbRf2s"
      }
    },
    {
      "cell_type": "code",
      "source": [
        "output_a = 52.0\n",
        "output_b = \"{:g}\".format(output_a)\n",
        "print(output_a)\n",
        "print(output_b)"
      ],
      "metadata": {
        "colab": {
          "base_uri": "https://localhost:8080/"
        },
        "id": "C6oSgNbcU0AT",
        "outputId": "2f02b7f5-a7a1-4341-b181-2ea0fd166db5"
      },
      "execution_count": null,
      "outputs": [
        {
          "output_type": "stream",
          "name": "stdout",
          "text": [
            "52.0\n",
            "52\n"
          ]
        }
      ]
    },
    {
      "cell_type": "markdown",
      "source": [
        "### 대소문자 바꾸기: upper()와 lower()\n",
        "\n",
        "upper(): 문자열의 알파벳을 대문자로 만든다\n",
        "\n",
        "lower(): 문자열의 알파벳을 소문자로 만든다"
      ],
      "metadata": {
        "id": "c1wlprCFU_-O"
      }
    },
    {
      "cell_type": "code",
      "source": [
        "a = \"Hello Python Programming...!\"\n",
        "U = a.upper()\n",
        "L = a.lower()\n",
        "print(U)\n",
        "print(L)"
      ],
      "metadata": {
        "colab": {
          "base_uri": "https://localhost:8080/"
        },
        "id": "1Cx4PTagVa0N",
        "outputId": "de819892-0c1a-4bbf-c89c-ad46fbca49ea"
      },
      "execution_count": null,
      "outputs": [
        {
          "output_type": "stream",
          "name": "stdout",
          "text": [
            "HELLO PYTHON PROGRAMMING...!\n",
            "hello python programming...!\n"
          ]
        }
      ]
    },
    {
      "cell_type": "markdown",
      "source": [
        "### 문자열의 양옆의 공백 제거하기: strip()\n",
        "\n",
        "strip(): 문자열 양옆의 공백을 제거한다.\n",
        "\n",
        "lstrip(): 문자열 왼쪽의 공백을 제거한다.\n",
        "\n",
        "rstrip(): 문자열 오른쪽의 공백을 제거한다."
      ],
      "metadata": {
        "id": "7HY6rvHvV7wo"
      }
    },
    {
      "cell_type": "code",
      "source": [
        "input_a = \"\"\"\n",
        "        안녕하세요\n",
        "문자열의 함수를 알아봅시다\n",
        "\"\"\"\n",
        "print(input_a)\n",
        "print(input_a.strip())"
      ],
      "metadata": {
        "colab": {
          "base_uri": "https://localhost:8080/"
        },
        "id": "BasZvJaeW4Qg",
        "outputId": "b06cc3d4-b0dd-4a9a-cb6a-c39ce4a21432"
      },
      "execution_count": null,
      "outputs": [
        {
          "output_type": "stream",
          "name": "stdout",
          "text": [
            "\n",
            "        안녕하세요\n",
            "문자열의 함수를 알아봅시다\n",
            "\n",
            "안녕하세요\n",
            "문자열의 함수를 알아봅시다\n"
          ]
        }
      ]
    },
    {
      "cell_type": "markdown",
      "source": [
        "### 문자열의 구성 파악하기: isOO\n",
        "\n",
        "isalnum(): 문자열이 알파벳 또는 숫자로만 구성되어 있는지 확인\n",
        "\n",
        "isalpha(): 문자열이 알파벳으로만 구성되어 잇는지 확인\n",
        "\n",
        "isidentifier(): 문자열이 식별자로 사용할 수 있는지 확인\n",
        "\n",
        "isdecimal(): 문자열이 정수 형태인지 확인\n",
        "\n",
        "sidigit(): 문자열이 숫자로 인식될 수 있는지 확인\n",
        "\n",
        "isspace(): 문자열이 공백으로만 구성되어 있는지 확인\n",
        "\n",
        "islower(): 문자열이 소문자로만 구성되어 있는지 확인\n",
        "\n",
        "isupper(): 문자열이 대문자로만 구성되어 있는지 확인\n",
        "\n",
        "Ture(맞다) 또는 False(아니다)라고 출력되는데 이를 불이라고 부른다."
      ],
      "metadata": {
        "id": "yUO67rc5XjPx"
      }
    },
    {
      "cell_type": "code",
      "source": [
        "print(\"TrainA10\".isalnum())\n",
        "print(\"10\".isdigit())"
      ],
      "metadata": {
        "colab": {
          "base_uri": "https://localhost:8080/"
        },
        "id": "LQBGVCSvaCil",
        "outputId": "b4f439b2-c213-46af-cf7d-2a462d5d0a38"
      },
      "execution_count": null,
      "outputs": [
        {
          "output_type": "stream",
          "name": "stdout",
          "text": [
            "True\n",
            "True\n"
          ]
        }
      ]
    },
    {
      "cell_type": "markdown",
      "source": [
        "### 문자열 찾기: find()와 rfind()\n",
        "\n",
        "find(): 왼쪽부터 찾아서 처음 등장하는 위치를 찾는다.\n",
        "\n",
        "rfind(): 오른쪽부터 찾아서 처음 등장하는 위치를 찾는다."
      ],
      "metadata": {
        "id": "y4sdljMWaXRA"
      }
    },
    {
      "cell_type": "code",
      "source": [
        "output_a = \"안녕안녕하세요\".find(\"안녕\")             #안녕안녕하세요\n",
        "print(output_a)                                      #0 1 2 3 4 5 6\n",
        "output_b = \"안녕안녕하세요\".rfind(\"안녕\")\n",
        "print(output_b)"
      ],
      "metadata": {
        "colab": {
          "base_uri": "https://localhost:8080/"
        },
        "id": "XsUjJ9lYbFo2",
        "outputId": "3d5f25ca-c05e-44e7-850c-864f33303d40"
      },
      "execution_count": null,
      "outputs": [
        {
          "output_type": "stream",
          "name": "stdout",
          "text": [
            "0\n",
            "2\n"
          ]
        }
      ]
    },
    {
      "cell_type": "markdown",
      "source": [
        "### 문자열과 in연산자\n",
        "\n",
        "문자열 내부에 어떤 문자열이 있는지 확인하려면 in 연산자를 사용합니다. \n",
        "\n",
        "Ture(맞다) 또는 False(아니다)로 출력된다"
      ],
      "metadata": {
        "id": "4nzWS7WhbZSC"
      }
    },
    {
      "cell_type": "code",
      "source": [
        "print(\"안녕\" in \"안녕하세요\")\n",
        "print(\"잘자\" in \"안녕하세요\")"
      ],
      "metadata": {
        "colab": {
          "base_uri": "https://localhost:8080/"
        },
        "id": "ttcL8YINc4GC",
        "outputId": "44db2e74-1c43-4fe9-b274-38d831243797"
      },
      "execution_count": null,
      "outputs": [
        {
          "output_type": "stream",
          "name": "stdout",
          "text": [
            "True\n",
            "False\n"
          ]
        }
      ]
    },
    {
      "cell_type": "markdown",
      "source": [
        "### 문자열 자르기: split()\n",
        "\n",
        "split(): 문자열을 특정한 문자로 자를 때 사용"
      ],
      "metadata": {
        "id": "uo7gZFEKc-Yf"
      }
    },
    {
      "cell_type": "code",
      "source": [
        "#공백을 기준으로 자르기\n",
        "a= \"10 20 30 40 50\".split(\" \")\n",
        "print(a)"
      ],
      "metadata": {
        "colab": {
          "base_uri": "https://localhost:8080/"
        },
        "id": "ZtHwbF5WeFpO",
        "outputId": "3e98b0f1-cf17-4e6d-8c6e-2d87e1734023"
      },
      "execution_count": null,
      "outputs": [
        {
          "output_type": "stream",
          "name": "stdout",
          "text": [
            "['10', '20', '30', '40', '50']\n"
          ]
        }
      ]
    },
    {
      "cell_type": "markdown",
      "source": [
        "실행 결과로 리스트가 나온다."
      ],
      "metadata": {
        "id": "T9ImpAAmeMlL"
      }
    },
    {
      "cell_type": "markdown",
      "source": [
        "# **5.도전문제**ㅡ"
      ],
      "metadata": {
        "id": "adFWk6frnp1g"
      }
    },
    {
      "cell_type": "markdown",
      "source": [
        "### 1.구의 부피와 겉넓이"
      ],
      "metadata": {
        "id": "edtFV5X-n0GG"
      }
    },
    {
      "cell_type": "code",
      "source": [
        "pi = 3.14159265\n",
        "r_a = input(\"구의 반지름을 입력해주세요:\")\n",
        "r = int(r_a)\n",
        "\n",
        "print(\"구의 부피:\", 4/3*pi*(r**3))\n",
        "print(\"구의 겉넓이:\", 4*pi*(r**2))"
      ],
      "metadata": {
        "id": "u-qEaO1jecNE",
        "colab": {
          "base_uri": "https://localhost:8080/"
        },
        "outputId": "049f5053-e3f2-404c-ae91-78c4a16e1fe9"
      },
      "execution_count": null,
      "outputs": [
        {
          "output_type": "stream",
          "name": "stdout",
          "text": [
            "구의 반지름을 입력해주세요:5\n",
            "구의 부피: 523.5987749999999\n",
            "구의 겉넓이: 314.159265\n"
          ]
        }
      ]
    },
    {
      "cell_type": "markdown",
      "source": [
        "### 2.피타고라스 정리"
      ],
      "metadata": {
        "id": "ecYIJ3GCnYBM"
      }
    },
    {
      "cell_type": "code",
      "source": [
        "a = float(input(\"밑변의 길이를 입력해주세요:\"))\n",
        "b = float(input(\"높이의 길이를 입력해주세요:\"))\n",
        "\n",
        "c = (a**2+b**2)**(1/2)\n",
        "\n",
        "print(\"= 빗변의 길이는\", c, \"입니다.\")"
      ],
      "metadata": {
        "colab": {
          "base_uri": "https://localhost:8080/"
        },
        "id": "e9GV6PiTn3I_",
        "outputId": "d9ad033c-397b-4e50-e9a7-1e577006911d"
      },
      "execution_count": null,
      "outputs": [
        {
          "output_type": "stream",
          "name": "stdout",
          "text": [
            "밑변의 길이를 입력해주세요:3.0\n",
            "높이의 길이를 입력해주세요:4.0\n",
            "= 빗변의 길이는 5.0 입니다.\n"
          ]
        }
      ]
    }
  ]
}