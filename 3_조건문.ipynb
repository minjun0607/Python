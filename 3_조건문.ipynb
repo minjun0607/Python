{
  "nbformat": 4,
  "nbformat_minor": 0,
  "metadata": {
    "colab": {
      "provenance": [],
      "toc_visible": true,
      "authorship_tag": "ABX9TyM3mGQSMji8qLB7R9RgH6UV",
      "include_colab_link": true
    },
    "kernelspec": {
      "name": "python3",
      "display_name": "Python 3"
    },
    "language_info": {
      "name": "python"
    }
  },
  "cells": [
    {
      "cell_type": "markdown",
      "metadata": {
        "id": "view-in-github",
        "colab_type": "text"
      },
      "source": [
        "<a href=\"https://colab.research.google.com/github/minjun0607/Python/blob/main/3_%EC%A1%B0%EA%B1%B4%EB%AC%B8.ipynb\" target=\"_parent\"><img src=\"https://colab.research.google.com/assets/colab-badge.svg\" alt=\"Open In Colab\"/></a>"
      ]
    },
    {
      "cell_type": "markdown",
      "source": [
        "# **1.불 자료형과 if 조건문**"
      ],
      "metadata": {
        "id": "7jCZHnIApiPJ"
      }
    },
    {
      "cell_type": "markdown",
      "source": [
        "불은 오직 Ture(참)와 False(거짓) 값만 가질 수 있다."
      ],
      "metadata": {
        "id": "tyTLPDVmpr0K"
      }
    },
    {
      "cell_type": "markdown",
      "source": [
        "### 불 만들기: 비교연산자"
      ],
      "metadata": {
        "id": "v6VAyqaap7_F"
      }
    },
    {
      "cell_type": "markdown",
      "source": [
        "불은 비교연산자를 통해 만들 수 있다.\n",
        "\n",
        "파이썬에는 다음과 같은 여섯개의 비교연산자가 있다.\n",
        "\n",
        "==: 같다\n",
        "\n",
        "!=: 다르다\n",
        "\n",
        "<:  작다\n",
        "\n",
        "\\>:  크다\n",
        "\n",
        "<=: 작거나 같다\n",
        "\n",
        "\\>=: 크거나 같다"
      ],
      "metadata": {
        "id": "xipTUDolp_ZK"
      }
    },
    {
      "cell_type": "code",
      "source": [
        "print(10 == 100)\n",
        "print(10 != 100)\n",
        "print(10 < 100)\n",
        "print(10 > 100)\n",
        "print(10 <= 100)\n",
        "print(10 >= 100)"
      ],
      "metadata": {
        "colab": {
          "base_uri": "https://localhost:8080/"
        },
        "id": "cgWt1RhCqVW0",
        "outputId": "e1ccbf33-2270-40ec-c06b-0b297a169f7d"
      },
      "execution_count": null,
      "outputs": [
        {
          "output_type": "stream",
          "name": "stdout",
          "text": [
            "False\n",
            "True\n",
            "True\n",
            "False\n",
            "True\n",
            "False\n"
          ]
        }
      ]
    },
    {
      "cell_type": "code",
      "source": [
        "print(\"가방\" == \"가방\")\n",
        "print(\"가방\" != \"하마\")\n",
        "print(\"가방\" < \"하마\")                #이때 한글은 사전 순서(가나다순)로 앞에 있는 것이 작은 값을 갖는다.              \n",
        "print(\"가방\" > \"하마\")"
      ],
      "metadata": {
        "colab": {
          "base_uri": "https://localhost:8080/"
        },
        "id": "RjABP14RqoD9",
        "outputId": "3fe46566-ef19-40fe-bd34-5aead7e48176"
      },
      "execution_count": null,
      "outputs": [
        {
          "output_type": "stream",
          "name": "stdout",
          "text": [
            "True\n",
            "True\n",
            "True\n",
            "False\n"
          ]
        }
      ]
    },
    {
      "cell_type": "code",
      "source": [
        "#범위구하기\n",
        "x = 25\n",
        "print(10 < x < 30)\n",
        "print(40 < x < 60)"
      ],
      "metadata": {
        "colab": {
          "base_uri": "https://localhost:8080/"
        },
        "id": "SP06_tGxq3uX",
        "outputId": "706e0dce-d09d-4312-df34-36beee5d643f"
      },
      "execution_count": null,
      "outputs": [
        {
          "output_type": "stream",
          "name": "stdout",
          "text": [
            "True\n",
            "False\n"
          ]
        }
      ]
    },
    {
      "cell_type": "markdown",
      "source": [
        "### 불 연산하기: 논리연산자"
      ],
      "metadata": {
        "id": "x9sKcBCOrQKX"
      }
    },
    {
      "cell_type": "markdown",
      "source": [
        "불을 만들 때는 비교연산자를 사용하고, 불끼리는 논리 연산자를 사용할 수 있다."
      ],
      "metadata": {
        "id": "ZcZJIMiVrX14"
      }
    },
    {
      "cell_type": "markdown",
      "source": [
        "not(아니다): 불을 반대로 전환한다.\n",
        "\n",
        "and(그리고): 피연산자 두개가 모두 참일 때 True를 출력하고, 그 외에는 False를 출력한다.\n",
        "\n",
        "or(또는): 피연산자 두 개 중에 하나만 참이라도 True를 출력하고, 두개가 모두 거짓일 때만 False를 출력한다."
      ],
      "metadata": {
        "id": "T_26mqS4rf63"
      }
    },
    {
      "cell_type": "markdown",
      "source": [
        "- not 연산자\n",
        "\n",
        "not연산자는 단항 연산자로, 참과 거짓을 반대로 바꿀 때 사용"
      ],
      "metadata": {
        "id": "mjHF9So_r7Pv"
      }
    },
    {
      "cell_type": "code",
      "source": [
        "print(not True)\n",
        "print(not False)"
      ],
      "metadata": {
        "colab": {
          "base_uri": "https://localhost:8080/"
        },
        "id": "Rkyq1pHor_63",
        "outputId": "59711e19-c733-4220-c50a-b9834ee95438"
      },
      "execution_count": null,
      "outputs": [
        {
          "output_type": "stream",
          "name": "stdout",
          "text": [
            "False\n",
            "True\n"
          ]
        }
      ]
    },
    {
      "cell_type": "code",
      "source": [
        "#not 연산자 조합하기\n",
        "x = 10\n",
        "under_20 = x < 20   #under_20 = (x < 20)\n",
        "print(\"under_20:\", under_20)\n",
        "print(\"not under_20:\", not under_20)"
      ],
      "metadata": {
        "colab": {
          "base_uri": "https://localhost:8080/"
        },
        "id": "zWnVLQuPsI5E",
        "outputId": "a53cfb7a-5536-424c-c0cd-d6ddbca287f0"
      },
      "execution_count": null,
      "outputs": [
        {
          "output_type": "stream",
          "name": "stdout",
          "text": [
            "under_20: True\n",
            "not under_20: False\n"
          ]
        }
      ]
    },
    {
      "cell_type": "markdown",
      "source": [
        "- and 연산자와 or 연산자"
      ],
      "metadata": {
        "id": "utJxYRaGsmk4"
      }
    },
    {
      "cell_type": "markdown",
      "source": [
        "and 연산자는 양쪽 변의 값이 모두 참일 때만 True를 결과로 낸다."
      ],
      "metadata": {
        "id": "Yg_BH4gIAaQG"
      }
    },
    {
      "cell_type": "markdown",
      "source": [
        "반면 or 연산자는 둘 중 하나만 참이어도 True를 결과로 낸다."
      ],
      "metadata": {
        "id": "x09oytvOBKdL"
      }
    },
    {
      "cell_type": "code",
      "source": [
        "print(True and True)\n",
        "print(True and False)\n",
        "print(False and True)\n",
        "print(False and False)\n",
        "print(True or True)\n",
        "print(True or False)\n",
        "print(False or True)\n",
        "print(False or False)"
      ],
      "metadata": {
        "colab": {
          "base_uri": "https://localhost:8080/"
        },
        "id": "mAQoQV-3BWBd",
        "outputId": "9f53c013-55d1-4440-fb04-c9bb5340a310"
      },
      "execution_count": null,
      "outputs": [
        {
          "output_type": "stream",
          "name": "stdout",
          "text": [
            "True\n",
            "False\n",
            "False\n",
            "False\n",
            "True\n",
            "True\n",
            "True\n",
            "False\n"
          ]
        }
      ]
    },
    {
      "cell_type": "markdown",
      "source": [
        "### if 조건문이란?"
      ],
      "metadata": {
        "id": "tcBmjnqrB4pj"
      }
    },
    {
      "cell_type": "markdown",
      "source": [
        "if 조건문은 조건에 따라 코드를 실행하거나, 실행하지 않게 만들고 싶을 때 사용하는 구문이다.\n",
        "\n",
        "이렇게 조건을 기반으로 실행의 흐름을 변경하는 것을 조금 어려운 용어로 조건 분기라고 부른다."
      ],
      "metadata": {
        "id": "qkB2v6JvB-Wu"
      }
    },
    {
      "cell_type": "code",
      "source": [
        "#조건문의 기본 사용\n",
        "\n",
        "#입력을 받는다.\n",
        "number = input(\"정수입력>\")\n",
        "number = int(number)\n",
        "\n",
        "#양수 조건\n",
        "if number > 0:\n",
        "  print(\"양수입니다.\")\n",
        "\n",
        "  #음수 조건\n",
        "if number < 0:\n",
        "  print(\"음수 입니다.\")\n",
        "\n",
        "    #0 조건\n",
        "if number == 0:\n",
        "  print(\"0입니다.\")"
      ],
      "metadata": {
        "colab": {
          "base_uri": "https://localhost:8080/"
        },
        "id": "AaSa0EvCYyid",
        "outputId": "63b1a22a-e00b-4a1a-895b-bf71f3a30f29"
      },
      "execution_count": null,
      "outputs": [
        {
          "output_type": "stream",
          "name": "stdout",
          "text": [
            "정수입력>0\n",
            "0입니다.\n"
          ]
        }
      ]
    },
    {
      "cell_type": "markdown",
      "source": [
        "### 날짜/시간 활용하기"
      ],
      "metadata": {
        "id": "4GN6pytl-jMA"
      }
    },
    {
      "cell_type": "code",
      "source": [
        "#날짜/시간 출력하기\n",
        "#날짜/시간과 관련된 기능을 가져온다.\n",
        "import datetime\n",
        "\n",
        "#현제 날짜/시간을 구한다.\n",
        "now =  datetime.datetime.now()\n",
        "\n",
        "#출력한다.\n",
        "print(now.year, \"년\")\n",
        "print(now.month, \"월\")\n",
        "print(now.day, \"일\")\n",
        "print(now.hour, \"시\")\n",
        "print(now.minute, \"분\")\n",
        "print(now.second, \"초\")"
      ],
      "metadata": {
        "id": "G5U5rL1XZrKl",
        "colab": {
          "base_uri": "https://localhost:8080/"
        },
        "outputId": "a6c64f17-9844-4bf8-80c6-79b985efe20e"
      },
      "execution_count": null,
      "outputs": [
        {
          "output_type": "stream",
          "name": "stdout",
          "text": [
            "2023 년\n",
            "5 월\n",
            "23 일\n",
            "8 시\n",
            "42 분\n",
            "19 초\n"
          ]
        }
      ]
    },
    {
      "cell_type": "code",
      "source": [
        "#날짜/시간을 한 줄로 출력하기\n",
        "#날짜/시간과 관련된 기능을 가져온다.\n",
        "import datetime\n",
        "\n",
        "#현제 날짜/시간을 구한다.\n",
        "now = datetime.datetime.now()\n",
        "\n",
        "#출력한다.\n",
        "print(\"{}년 {}월 {}일 {}시 {}분 {}초\". format(\n",
        "    now.year,\n",
        "    now.month,\n",
        "    now.day,\n",
        "    now.hour,\n",
        "    now.minute,\n",
        "    now.second\n",
        "    ))"
      ],
      "metadata": {
        "id": "sRAJa0e19KIg",
        "colab": {
          "base_uri": "https://localhost:8080/"
        },
        "outputId": "443e7f51-1ee6-4861-aeb0-9288bd5a4c55"
      },
      "execution_count": null,
      "outputs": [
        {
          "output_type": "stream",
          "name": "stdout",
          "text": [
            "2023년 5월 23일 8시 42분 26초\n"
          ]
        }
      ]
    },
    {
      "cell_type": "code",
      "source": [
        "#오전과 오후를 구분하는 프로그램\n",
        "#날짜/시간과 관련된 기능을 가져온다\n",
        "import datetime\n",
        "\n",
        "#현재 날짜/시간을 구한다.\n",
        "now = datetime.datetime.now()\n",
        "\n",
        "#오전 구분\n",
        "if now.hour < 12:\n",
        "  print(\"현재 시각은 {}시로 오전입니다!\".format(now.hour))\n",
        "\n",
        "#오후 구분\n",
        "if now.hour >= 12:\n",
        "  print(\"현재 시각은 {}시로 오후입니다.\".format(now.hour))"
      ],
      "metadata": {
        "id": "vi9PW3Fi_atL",
        "colab": {
          "base_uri": "https://localhost:8080/"
        },
        "outputId": "5504604b-af64-4c11-96c5-7840d104dc25"
      },
      "execution_count": null,
      "outputs": [
        {
          "output_type": "stream",
          "name": "stdout",
          "text": [
            "현재 시각은 8시로 오전입니다!\n"
          ]
        }
      ]
    },
    {
      "cell_type": "code",
      "source": [
        "#계절을 구분하는 프로그램\n",
        "#날짜/시간과 관련된 기능을 가져온다.\n",
        "import datetime\n",
        "\n",
        "#현재 날짜/시간을 구한다.\n",
        "now = datetime.datetime.now()\n",
        "\n",
        "\n",
        "#봄 구분\n",
        "if 3 <= now.month <= 5:\n",
        "  print(\"이번달은 {}월로 봄입니다!\".format(now.month))\n",
        "\n",
        "#여름구분\n",
        "if 6 <= now.month <= 8:\n",
        "  print(\"이번달은 {}월로 여름입니다!\".format(now.month))\n",
        "\n",
        "#가을 구분\n",
        "if 9 <= now.month <= 11:\n",
        "  print(\"이번달은 {}월로 가을입니다!\".format(now.month))\n",
        "\n",
        "#겨울 구분\n",
        "if now.month == 12 or 1 <= now.month <= 2:\n",
        "  print(\"이번달은 {}월로 겨울입니다!\".format(now.month)) "
      ],
      "metadata": {
        "colab": {
          "base_uri": "https://localhost:8080/"
        },
        "id": "9uERiWj9xHtl",
        "outputId": "8f5c66e6-41f0-4405-ba60-72bf73841fe0"
      },
      "execution_count": null,
      "outputs": [
        {
          "output_type": "stream",
          "name": "stdout",
          "text": [
            "이번달은 5월로 봄입니다!\n"
          ]
        }
      ]
    },
    {
      "cell_type": "markdown",
      "source": [
        "### 짝수와 홀수 구분하기"
      ],
      "metadata": {
        "id": "kr92fQiaywx9"
      }
    },
    {
      "cell_type": "code",
      "source": [
        "#끝자리로 짝수와 홀수 구분\n",
        "#입력\n",
        "number = input(\"정수 입력> \")\n",
        "\n",
        "#마지막 자리 숫자 추출\n",
        "last_character = number[-1]\n",
        "\n",
        "#숫자로 반환\n",
        "last_number = int(last_character)\n",
        "\n",
        "#짝수 확인\n",
        "if last_number == 0 \\\n",
        "or last_number == 2 \\\n",
        "or last_number == 4 \\\n",
        "or last_number == 6 \\\n",
        "or last_number == 8 :\n",
        " print(\"짝수입니다.\")\n",
        "\n",
        "#홀수 확인\n",
        "if last_number == 1 \\\n",
        " or last_number == 3 \\\n",
        " or last_number == 5 \\\n",
        " or last_number == 7 \\\n",
        " or last_number == 9:\n",
        "  print(\"홀수입니다.\")"
      ],
      "metadata": {
        "colab": {
          "base_uri": "https://localhost:8080/"
        },
        "id": "gkp2xK9oy2jb",
        "outputId": "806a7f69-e8b2-43e8-cb4d-dd17a4a34d1c"
      },
      "execution_count": null,
      "outputs": [
        {
          "output_type": "stream",
          "name": "stdout",
          "text": [
            "정수 입력> 3\n",
            "홀수입니다.\n"
          ]
        }
      ]
    },
    {
      "cell_type": "code",
      "source": [
        "#in 문자열 연산자를 활용해서 짝수와 홀수 구분\n",
        "#입력\n",
        "number = input(\"정수 입력> \")\n",
        "last_character = number[-1]\n",
        "\n",
        "#짝수 조건\n",
        "if last_character in \"02468\":\n",
        "  print(\"짝수입니다.\")\n",
        "\n",
        "#홀수 조건\n",
        "if last_character in \"13579\":\n",
        "  print(\"홀수입니다.\")"
      ],
      "metadata": {
        "colab": {
          "base_uri": "https://localhost:8080/"
        },
        "id": "mz7cW-au0E4n",
        "outputId": "48aa0cab-f7c6-4041-8bda-fc6803fc67e4"
      },
      "execution_count": null,
      "outputs": [
        {
          "output_type": "stream",
          "name": "stdout",
          "text": [
            "정수 입력> 01\n",
            "홀수입니다.\n"
          ]
        }
      ]
    },
    {
      "cell_type": "code",
      "source": [
        "#나머지 연산자를 활용해서 짝수와 홀수 구분\n",
        "#입력\n",
        "number = input(\"정수 입력> \")\n",
        "number = int(number)\n",
        "\n",
        "#짝수 조건\n",
        "if number % 2 == 0:\n",
        "  print(\"짝수입니다.\")\n",
        "\n",
        "#홀수 조건\n",
        "if number % 2 == 1:\n",
        "  print(\"홀수입니다.\")"
      ],
      "metadata": {
        "id": "-sTsCe3VC-DL",
        "colab": {
          "base_uri": "https://localhost:8080/"
        },
        "outputId": "cd541867-8dc9-489c-8cbb-552e44e346bf"
      },
      "execution_count": 2,
      "outputs": [
        {
          "output_type": "stream",
          "name": "stdout",
          "text": [
            "정수 입력> 10\n",
            "짝수입니다.\n"
          ]
        }
      ]
    },
    {
      "cell_type": "markdown",
      "source": [
        "## **2.if~else와 elif 구문**"
      ],
      "metadata": {
        "id": "ZGxJog1kjRXv"
      }
    },
    {
      "cell_type": "markdown",
      "source": [
        "### else 조건문의 활용"
      ],
      "metadata": {
        "id": "mBuzpwWLjib_"
      }
    },
    {
      "cell_type": "markdown",
      "source": [
        "else 구문은 if 조건문 뒤에 사용하며, if 조건문의 조건이 거짓일 때 실행되는 부분이다."
      ],
      "metadata": {
        "id": "9IXcwxCVjsoQ"
      }
    },
    {
      "cell_type": "code",
      "source": [
        "#if 조건문에 else구문을 주가해서 짝수와 홀수 구분하기\n",
        "#입력\n",
        "number = input(\"정수 입력> \")\n",
        "number = int(number)\n",
        "\n",
        "#조건문\n",
        "if number % 2 == 0:\n",
        "  #조건이 참일때, 즉 짝수 조건\n",
        "  print(\"짝수입니다.\")\n",
        "else:\n",
        "  #조건이 거짓일 때, 즉 홀수 조건\n",
        "  print(\"홀수입니다.\")"
      ],
      "metadata": {
        "colab": {
          "base_uri": "https://localhost:8080/"
        },
        "id": "ffTUpICQj81b",
        "outputId": "57177137-699e-48ca-93dd-8e7070f57bdc"
      },
      "execution_count": 4,
      "outputs": [
        {
          "output_type": "stream",
          "name": "stdout",
          "text": [
            "정수 입력> 2390\n",
            "짝수입니다.\n"
          ]
        }
      ]
    },
    {
      "cell_type": "markdown",
      "source": [
        "조건문이 두 가지로만 구분될 때 if else 구문을 사용하면 조건 비교를 한번만 하므로 이전의 코드보다 효율적이다."
      ],
      "metadata": {
        "id": "1nqbe6Tqkotd"
      }
    },
    {
      "cell_type": "markdown",
      "source": [
        "## elif 구문"
      ],
      "metadata": {
        "id": "qQuoalaOk8df"
      }
    },
    {
      "cell_type": "markdown",
      "source": [
        "세 개 이상의 조건을 연결해서 사용하는 방법이 바로 elif 구문이다."
      ],
      "metadata": {
        "id": "OycR8eqmlRaV"
      }
    },
    {
      "cell_type": "code",
      "source": [
        "#계절 구하기\n",
        "#날짜/시간과 관련된 기능 가져오기\n",
        "import datetime\n",
        "\n",
        "#현재 날짜/시간을 구하고\n",
        "#쉽게 사용할 수 있게 월을 변수에 저장\n",
        "now = datetime.datetime.now()\n",
        "month = now.month\n",
        "\n",
        "#조건문으로 계절 확인\n",
        "if 3 <= month <= 5:\n",
        "  print(\"현재는 봄입니다.\")\n",
        "elif 6 <= month <= 8:\n",
        "  print(\"현재는 여름입니다.\")\n",
        "elif 9<= month <= 11:\n",
        "  print(\"현재는 가을입니다.\")\n",
        "else:\n",
        "  print(\"현재는 겨울입니다.\")"
      ],
      "metadata": {
        "colab": {
          "base_uri": "https://localhost:8080/"
        },
        "id": "W-qQTvzElcpK",
        "outputId": "5bdebdc6-52b7-48a1-8da2-d7a90ee76ec1"
      },
      "execution_count": 6,
      "outputs": [
        {
          "output_type": "stream",
          "name": "stdout",
          "text": [
            "현재는 봄입니다.\n"
          ]
        }
      ]
    },
    {
      "cell_type": "markdown",
      "source": [
        "## if 조건문을 효율적으로 사용하기"
      ],
      "metadata": {
        "id": "uFWRWRXImpgw"
      }
    },
    {
      "cell_type": "code",
      "source": [
        "#유머를 조건문으로 구현하기(1)\n",
        "#변수선언\n",
        "score = float(input(\"학점 입력> \"))\n",
        "\n",
        "#조건문을 적용\n",
        "if score == 4.5:\n",
        "  print(\"신\")\n",
        "elif 4.2 <= score < 4.5:\n",
        "  print(\"교수님의 사랑\")\n",
        "elif 3.5 <= score < 4.2:\n",
        "  print(\"현 체제의 수호자\")\n",
        "elif 2.8 <= score < 3.5:\n",
        "  print(\"일반인\")\n",
        "elif 2.3 <= score < 2.8:\n",
        "  print(\"일탈을 꿈꾸는 소시민\")\n",
        "elif 1.75 <= score < 2.3:\n",
        "  print(\"오락문화의 선구자\")\n",
        "elif 1.0 <= score < 1.75:\n",
        "  print(\"불가촉천민\")\n",
        "elif 0.5 <= score < 1.0:\n",
        "  print(\"자벌레\")\n",
        "elif 0 < score < 0.5:\n",
        "  print(\"플랑크톤\")\n",
        "elif score == 0:\n",
        "  print(\"시대를 앞서가는 혁명의 씨앗\")"
      ],
      "metadata": {
        "colab": {
          "base_uri": "https://localhost:8080/"
        },
        "id": "d_7sTDQjnYXn",
        "outputId": "06c379ce-1595-4512-9c65-9fc5d724bd18"
      },
      "execution_count": 7,
      "outputs": [
        {
          "output_type": "stream",
          "name": "stdout",
          "text": [
            "학점 입력> 0\n",
            "시대를 앞서가는 혁명의 씨앗\n"
          ]
        }
      ]
    },
    {
      "cell_type": "code",
      "source": [
        "#유머를 조건문으로 구현하기(2)\n",
        "#변수선언\n",
        "score = float(input(\"학점 입력> \"))\n",
        "\n",
        "#조건문을 적용\n",
        "if score == 4.5:\n",
        "  print(\"신\")\n",
        "elif 4.2 <= score:\n",
        "  print(\"교수님의 사랑\")\n",
        "elif 3.5 <= score:\n",
        "  print(\"현 체제의 수호자\")\n",
        "elif 2.8 <= score:\n",
        "  print(\"일반인\")\n",
        "elif 2.3 <= score:\n",
        "  print(\"일탈을 꿈꾸는 소시민\")\n",
        "elif 1.75 <= score:\n",
        "  print(\"오락문화의 선구자\")\n",
        "elif 1.0 <= score:\n",
        "  print(\"불가촉천민\")\n",
        "elif 0.5 <= score:\n",
        "  print(\"자벌레\")\n",
        "elif 0 < score:\n",
        "  print(\"플랑크톤\")\n",
        "else:\n",
        "  print(\"시대를 앞서가는 혁명의 씨앗\")"
      ],
      "metadata": {
        "colab": {
          "base_uri": "https://localhost:8080/"
        },
        "id": "Ae7C0L0Eotc_",
        "outputId": "b8e842b6-9700-49d0-cefe-f098073d9d8f"
      },
      "execution_count": 9,
      "outputs": [
        {
          "output_type": "stream",
          "name": "stdout",
          "text": [
            "학점 입력> 2.8\n",
            "일반인\n"
          ]
        }
      ]
    },
    {
      "cell_type": "markdown",
      "source": [
        "## False로 변환되는 값"
      ],
      "metadata": {
        "id": "lU1NvkQWo_uS"
      }
    },
    {
      "cell_type": "markdown",
      "source": [
        "if 조건문의 매개별수에 불이 아닌 다른 값이 올 때는 자동으로 이를 불로 변환해서 처리한다.\n",
        "\n",
        "False로 변환되는 값은 None, 0, 0.0, 빈 컨테이너(빈 문자열, 빈 바이트열, 빈 리스트, 빈 튜플, 빈 딕셔너리 등)이다.\n",
        "\n",
        "이 외에는 모두 Ture로 변환된다."
      ],
      "metadata": {
        "id": "djzGrFE8pPWh"
      }
    },
    {
      "cell_type": "code",
      "source": [
        "#False로 변환되는 값\n",
        "print(\"# if 조건문에 0 넣기\")\n",
        "if 0:\n",
        "  print(\"0은 Ture로 변환된다.\")\n",
        "else:\n",
        "  print(\"0은 False로 변환된다.\")\n",
        "  print()\n",
        "\n",
        "print(\"# if 조건문에 빈 문자열 넣기\")\n",
        "if \"\":\n",
        "  print(\"빈 문자열은 Ture로 변환된다.\")\n",
        "else:\n",
        "  print(\"빈 문자열은 False로 변환된다.\")"
      ],
      "metadata": {
        "colab": {
          "base_uri": "https://localhost:8080/"
        },
        "id": "0cnQ7EA3pvMU",
        "outputId": "afbecf2d-952f-4375-b7c2-a6f96f6a895c"
      },
      "execution_count": 10,
      "outputs": [
        {
          "output_type": "stream",
          "name": "stdout",
          "text": [
            "# if 조건문에 0 넣기\n",
            "0은 False로 변환된다.\n",
            "\n",
            "# if 조건문에 빈 문자열 넣기\n",
            "빈 문자열은 False로 변환된다.\n"
          ]
        }
      ]
    },
    {
      "cell_type": "markdown",
      "source": [
        "## pass 키워드"
      ],
      "metadata": {
        "id": "Ac96K1iUqVgu"
      }
    },
    {
      "cell_type": "markdown",
      "source": [
        "코드를 살펴보던 중 pass 키워드를 만나면 '진짜로 아무것도 안함' 또는 '곧 개발하겠음'이라는 의미로 생각하면 된다."
      ],
      "metadata": {
        "id": "OAwEBKvSqeuL"
      }
    },
    {
      "cell_type": "code",
      "source": [
        "#나중에 구현하려고 비워 둔 구문\n",
        "number = input(\"정수 입력> \")\n",
        "number = int(number)\n",
        "\n",
        "#조건문 사용\n",
        "if number > 0:\n",
        "    #양수일 때: 아직 미구현 상태이다.\n",
        "else:\n",
        "    #음수일 때: 아직 미구현 상태이다."
      ],
      "metadata": {
        "colab": {
          "base_uri": "https://localhost:8080/",
          "height": 135
        },
        "id": "W4cg6irFskc_",
        "outputId": "614b7233-7ad1-4c4d-ab28-b99b288caf3a"
      },
      "execution_count": 13,
      "outputs": [
        {
          "output_type": "error",
          "ename": "IndentationError",
          "evalue": "ignored",
          "traceback": [
            "\u001b[0;36m  File \u001b[0;32m\"<ipython-input-13-5b705b8c644c>\"\u001b[0;36m, line \u001b[0;32m8\u001b[0m\n\u001b[0;31m    else:\u001b[0m\n\u001b[0m    ^\u001b[0m\n\u001b[0;31mIndentationError\u001b[0m\u001b[0;31m:\u001b[0m expected an indented block after 'if' statement on line 6\n"
          ]
        }
      ]
    },
    {
      "cell_type": "code",
      "source": [
        "#입력\n",
        "number = input(\"정수 입력> \")\n",
        "number = int(number)\n",
        "\n",
        "#조건문 사용\n",
        "if number > 0:\n",
        "  #양수일 때 : 아직 미구현 상태이다.\n",
        "  pass\n",
        "else:\n",
        "  #음수일 때 : 아직 미구현 상태이다.\n",
        "  pass"
      ],
      "metadata": {
        "colab": {
          "base_uri": "https://localhost:8080/"
        },
        "id": "zlPBUmcPtLCj",
        "outputId": "78df6887-8f4a-4840-c47d-f2c48a81de96"
      },
      "execution_count": 14,
      "outputs": [
        {
          "name": "stdout",
          "output_type": "stream",
          "text": [
            "정수 입력> 10\n"
          ]
        }
      ]
    },
    {
      "cell_type": "code",
      "source": [
        "#NotImplementedError 사용\n",
        "#입력\n",
        "number = input (\"정수 입력> \")\n",
        "number = int(number)\n",
        "\n",
        "#조건문 사용\n",
        "if number > 0:\n",
        "  #양수일 때 : 아직 미구현 상태이다.\n",
        "  raise NotImplementedError\n",
        "else:\n",
        "  #음수일 때 : 아직 미구현 상태이다.\n",
        "  raise NotImplementedError"
      ],
      "metadata": {
        "colab": {
          "base_uri": "https://localhost:8080/",
          "height": 260
        },
        "id": "RlEcE8Y-ttQb",
        "outputId": "ee7305f7-10d6-46a1-b1c5-9f6bbd12855c"
      },
      "execution_count": 15,
      "outputs": [
        {
          "name": "stdout",
          "output_type": "stream",
          "text": [
            "정수 입력> 10\n"
          ]
        },
        {
          "output_type": "error",
          "ename": "NotImplementedError",
          "evalue": "ignored",
          "traceback": [
            "\u001b[0;31m---------------------------------------------------------------------------\u001b[0m",
            "\u001b[0;31mNotImplementedError\u001b[0m                       Traceback (most recent call last)",
            "\u001b[0;32m<ipython-input-15-0cd7c59296f8>\u001b[0m in \u001b[0;36m<cell line: 7>\u001b[0;34m()\u001b[0m\n\u001b[1;32m      7\u001b[0m \u001b[0;32mif\u001b[0m \u001b[0mnumber\u001b[0m \u001b[0;34m>\u001b[0m \u001b[0;36m0\u001b[0m\u001b[0;34m:\u001b[0m\u001b[0;34m\u001b[0m\u001b[0;34m\u001b[0m\u001b[0m\n\u001b[1;32m      8\u001b[0m   \u001b[0;31m#양수일 때 : 아직 미구현 상태이다.\u001b[0m\u001b[0;34m\u001b[0m\u001b[0;34m\u001b[0m\u001b[0m\n\u001b[0;32m----> 9\u001b[0;31m   \u001b[0;32mraise\u001b[0m \u001b[0mNotImplementedError\u001b[0m\u001b[0;34m\u001b[0m\u001b[0;34m\u001b[0m\u001b[0m\n\u001b[0m\u001b[1;32m     10\u001b[0m \u001b[0;32melse\u001b[0m\u001b[0;34m:\u001b[0m\u001b[0;34m\u001b[0m\u001b[0;34m\u001b[0m\u001b[0m\n\u001b[1;32m     11\u001b[0m   \u001b[0;31m#음수일 때 : 아직 미구현 상태이다.\u001b[0m\u001b[0;34m\u001b[0m\u001b[0;34m\u001b[0m\u001b[0m\n",
            "\u001b[0;31mNotImplementedError\u001b[0m: "
          ]
        }
      ]
    }
  ]
}